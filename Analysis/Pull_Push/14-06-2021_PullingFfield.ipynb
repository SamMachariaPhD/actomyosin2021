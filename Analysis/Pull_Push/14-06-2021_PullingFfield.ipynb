{
 "cells": [
  {
   "cell_type": "code",
   "execution_count": 1,
   "metadata": {},
   "outputs": [],
   "source": [
    "import numpy as np\n",
    "import pandas as pd\n",
    "import matplotlib.pyplot as plt\n",
    "plt.style.use(\"ggplot\")\n",
    "cm = 1/2.54"
   ]
  },
  {
   "cell_type": "code",
   "execution_count": 2,
   "metadata": {},
   "outputs": [],
   "source": [
    "f0_0 = pd.read_csv('data/Ffield/spd_stdt3F0.0pN.csv', names=['spd','std'])\n",
    "f0_25 = pd.read_csv('data/Ffield/spd_stdt3F0.25pN.csv', names=['spd','std'])\n",
    "f0_5 = pd.read_csv('data/Ffield/spd_stdt3F0.5pN.csv', names=['spd','std'])\n",
    "f1_0 = pd.read_csv('data/Ffield/spd_stdt3F1.0pN.csv', names=['spd','std'])\n",
    "#f1_5 = pd.read_csv('data/Ffield/spd_stdt3F1.5pN.csv', names=['spd','std'])\n",
    "f_0_25 = pd.read_csv('data/Ffield/spd_stdt3F-0.25pN.csv', names=['spd','std'])\n",
    "f_0_5 = pd.read_csv('data/Ffield/spd_stdt3F-0.5pN.csv', names=['spd','std'])\n",
    "f_1_0 = pd.read_csv('data/Ffield/spd_stdt3F-1.0pN.csv', names=['spd','std'])"
   ]
  },
  {
   "cell_type": "code",
   "execution_count": 3,
   "metadata": {},
   "outputs": [],
   "source": [
    "spd = np.array([f_1_0['spd'].mean(), f_0_5['spd'].mean(), f_0_25['spd'].mean(), f0_0['spd'].mean(), f0_25['spd'].mean(), f0_5['spd'].mean(), f1_0['spd'].mean()])\n",
    "std = np.array([f_1_0['std'].mean(), f_0_5['std'].mean(), f_0_25['std'].mean(), f0_0['std'].mean(), f0_25['std'].mean(), f0_5['std'].mean(), f1_0['std'].mean()])\n",
    "f = np.array([-1.0,-0.5,-0.25,0.0,0.25,0.5,1.0])"
   ]
  },
  {
   "cell_type": "code",
   "execution_count": 5,
   "metadata": {},
   "outputs": [
    {
     "data": {
      "text/plain": [
       "array([0.  , 0.25, 0.5 , 1.  ])"
      ]
     },
     "execution_count": 5,
     "metadata": {},
     "output_type": "execute_result"
    }
   ],
   "source": [
    "f[3:]"
   ]
  },
  {
   "cell_type": "code",
   "execution_count": 21,
   "metadata": {},
   "outputs": [
    {
     "data": {
      "image/png": "[encoded data removed]",
      "text/plain": [
       "<Figure size 425.197x425.197 with 1 Axes>"
      ]
     },
     "metadata": {
      "needs_background": "light"
     },
     "output_type": "display_data"
    }
   ],
   "source": [
    "fig, ax = plt.subplots(1,1, figsize=(15*cm,15*cm))\n",
    "\n",
    "ax.errorbar(f[3:], spd[3:], std[3:], ls='--', lw=1, elinewidth=2.0, c='brown', capsize=3, marker='o', markerfacecolor='lime', ecolor='grey')\n",
    "\n",
    "ax.minorticks_on()\n",
    "ax.tick_params('both',direction='in',top=False,right=False,length=8, width=0.5,which='major', labelsize=14)\n",
    "ax.tick_params('both',direction='in',top=False,right=False,length=4, width=0.4,which='minor', labelsize=14)\n",
    "\n",
    "ax.set_xlabel('Force ($pN/\\mu m$)', fontsize=16)\n",
    "ax.set_ylabel('Speed ($\\mu m/sec.$)', fontsize=16)\n",
    "\n",
    "#plt.savefig('fig/PullingField.pdf', format='pdf', bbox_inches='tight')\n",
    "#plt.savefig('fig/PullingField.png', format='png', dpi=300, bbox_inches='tight')\n",
    "#plt.savefig('fig/PullingField.svg', format='svg', bbox_inches='tight')\n",
    "\n",
    "plt.show()"
   ]
  },
  {
   "cell_type": "code",
   "execution_count": 23,
   "metadata": {},
   "outputs": [
    {
     "data": {
      "text/plain": [
       "0"
      ]
     },
     "execution_count": 23,
     "metadata": {},
     "output_type": "execute_result"
    }
   ],
   "source": [
    "import subprocess\n",
    "\n",
    "subprocess.call('inkscape fig/PullingField.svg -M fig/PullingField.emf',shell=True)"
   ]
  },
  {
   "cell_type": "code",
   "execution_count": null,
   "metadata": {},
   "outputs": [],
   "source": []
  }
 ],
 "metadata": {
  "kernelspec": {
   "display_name": "Python 3",
   "language": "python",
   "name": "python3"
  },
  "language_info": {
   "codemirror_mode": {
    "name": "ipython",
    "version": 3
   },
   "file_extension": ".py",
   "mimetype": "text/x-python",
   "name": "python",
   "nbconvert_exporter": "python",
   "pygments_lexer": "ipython3",
   "version": "3.5.2"
  }
 },
 "nbformat": 4,
 "nbformat_minor": 4
}
