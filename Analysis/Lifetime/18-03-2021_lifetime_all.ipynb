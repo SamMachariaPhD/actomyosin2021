{
 "cells": [
  {
   "cell_type": "code",
   "execution_count": 6,
   "metadata": {},
   "outputs": [],
   "source": [
    "import numpy as np\n",
    "import pandas as pd\n",
    "import matplotlib.pyplot as plt\n",
    "plt.style.use('ggplot')\n",
    "\n",
    "cm = 1/2.54\n",
    "\n",
    "#from scipy.interpolate import spline\n",
    "# jupyter nbconvert xxx.ipynb --no-input"
   ]
  },
  {
   "cell_type": "code",
   "execution_count": 2,
   "metadata": {},
   "outputs": [],
   "source": [
    "r_kd0 = [0.70, 0.80, 0.90, 0.92, 0.94, 0.96, 1.00]\n",
    "Tskd0 = 0.01\n",
    "r_kd0_0001 = [0.70, 0.92]\n",
    "Tskd0_0001 = 0.001\n",
    "r_001 = [0.70, 0.80, 0.90, 0.92, 0.94, 0.96, 0.98, 1.00]\n",
    "Ts001 = 0.01\n",
    "r_0001 = [0.70, 0.80, 0.90, 0.94, 0.98]\n",
    "Ts0001 = 0.001\n",
    "r_00001 = [0.70, 0.80, 0.90, 0.92, 0.94, 0.96, 0.98, 1.00]\n",
    "Ts00001 = 0.0001"
   ]
  },
  {
   "cell_type": "code",
   "execution_count": 3,
   "metadata": {},
   "outputs": [],
   "source": [
    "act_lyfkd0 = []; def_lyfkd0 = []\n",
    "act_lyfkd0_0001 = []; def_lyfkd0_0001 = []\n",
    "act_lyf001 = []; def_lyf001 = []\n",
    "act_lyf0001 = []; def_lyf0001 = []\n",
    "act_lyf00001 = []; def_lyf00001 = []\n",
    "\n",
    "for r  in [70, 80, 90, 92, 94, 96, 100]:\n",
    "    act_lyf_kd0_ = pd.read_csv('lyfData/Ts0.01kd0_S273T5R0.'+str(r)+'act_with_lyf.csv', names=['im', 'c', 'xm',\t'ym', 'lyf']) # 'x','y','lyf'\n",
    "    act_lyfkd0.append(act_lyf_kd0_)\n",
    "    try:\n",
    "        def_lyf_kd0_ = pd.read_csv('lyfData/Ts0.01kd0_S273T5R0.'+str(r)+'def_with_lyf.csv', names=['im', 'c', 'xm',\t'ym', 'lyf'])\n",
    "        def_lyfkd0.append(act_lyf_kd0_)\n",
    "    except:\n",
    "        pass; #print('passed: '+str(r))\n",
    "    \n",
    "for r  in [70, 92]:\n",
    "    act_lyf_kd0_0001_ = pd.read_csv('lyfData/Ts0.001kd0_S273T5R0.'+str(r)+'act_with_lyf.csv', names=['im', 'c', 'xm',\t'ym', 'lyf']) # 'x','y','lyf'\n",
    "    act_lyfkd0_0001.append(act_lyf_kd0_0001_)\n",
    "    try:\n",
    "        def_lyf_kd0_0001_ = pd.read_csv('lyfData/Ts0.001kd0_S273T5R0.'+str(r)+'def_with_lyf.csv', names=['im', 'c', 'xm',\t'ym', 'lyf'])\n",
    "        def_lyfkd0_0001.append(act_lyf_kd0_0001_)\n",
    "    except:\n",
    "        pass; #print('passed: '+str(r))    \n",
    "        \n",
    "for r  in [70, 80, 90, 92, 94, 96, 98, 100]:\n",
    "    act_lyf_001_ = pd.read_csv('lyfData/Ts0.01_S273T5R0.'+str(r)+'act_with_lyf.csv', names=['im', 'c', 'xm', 'ym', 'lyf'])\n",
    "    act_lyf001.append(act_lyf_001_)\n",
    "    try:\n",
    "        def_lyf_001_ = pd.read_csv('lyfData/Ts0.01_S273T5R0.'+str(r)+'def_with_lyf.csv', names=['im', 'c', 'xm', 'ym', 'lyf'])\n",
    "        def_lyf001.append(act_lyf_001_)\n",
    "    except:\n",
    "        pass; #print('passed: '+str(r))\n",
    "        \n",
    "for r  in [70, 80, 90, 94, 98]:\n",
    "    act_lyf_0001_ = pd.read_csv('lyfData/Ts0.001_S273T5R0.'+str(r)+'act_with_lyf.csv', names=['im', 'c', 'xm',\t'ym', 'lyf'])\n",
    "    act_lyf0001.append(act_lyf_0001_)\n",
    "    try:\n",
    "        def_lyf_0001_ = pd.read_csv('lyfData/Ts0.001_S273T5R0.'+str(r)+'def_with_lyf.csv', names=['im', 'c', 'xm',\t'ym', 'lyf'])\n",
    "        def_lyf0001.append(act_lyf_0001_)\n",
    "    except:\n",
    "        pass; #print('passed: '+str(r))\n",
    "        \n",
    "for r  in [70, 80, 90, 92, 94, 96, 98, 100]:\n",
    "    act_lyf_00001_ = pd.read_csv('lyfData/Ts0.0001_S273T5R0.'+str(r)+'act_with_lyf.csv', names=['im', 'c', 'xm', 'ym', 'lyf'])\n",
    "    act_lyf00001.append(act_lyf_00001_)\n",
    "    try:\n",
    "        def_lyf_00001_ = pd.read_csv('lyfData/Ts0.0001_S273T5R0.'+str(r)+'def_with_lyf.csv', names=['im', 'c', 'xm',\t'ym', 'lyf'])\n",
    "        def_lyf00001.append(act_lyf_00001_)\n",
    "    except:\n",
    "        pass; #print('passed: '+str(r))"
   ]
  },
  {
   "cell_type": "code",
   "execution_count": 4,
   "metadata": {},
   "outputs": [],
   "source": [
    "act_kd0 = []; act_kd0_m = []; act_kd0_d = []\n",
    "def_kd0 = []; def_kd0_m = []; def_kd0_d = []\n",
    "act_kd0_0001 = []; act_kd0_m_0001 = []; act_kd0_d_0001 = []\n",
    "def_kd0_0001 = []; def_kd0_m_0001 = []; def_kd0_d_0001 = []\n",
    "act_001 = []; act_001_m = []; act_001_d = []\n",
    "def_001 = []; def_001_m = []; def_001_d = []\n",
    "act_0001 = []; act_0001_m = []; act_0001_d = []\n",
    "def_0001 = []; def_0001_m = []; def_0001_d = []\n",
    "act_00001 = []; act_00001_m = []; act_00001_d = []\n",
    "def_00001 = []; def_00001_m = []; def_00001_d = []\n",
    "\n",
    "for i in range(7):\n",
    "    act_kd0 = Tskd0*act_lyfkd0[i]['lyf']\n",
    "    act_kd0_m.append(act_kd0.mean())\n",
    "    act_kd0_d.append(act_kd0.std())\n",
    "    #def_kd0 = Ts_kd0*def_lyfkd0[i]['lyf']\n",
    "    #def_kd0_m.append(def_kd0.mean())\n",
    "    #def_kd0_d.append(def_kd0.std())\n",
    "    \n",
    "for i in range(2):\n",
    "    act_kd0_0001 = Tskd0_0001*act_lyfkd0_0001[i]['lyf']\n",
    "    act_kd0_m_0001.append(act_kd0_0001.mean())\n",
    "    act_kd0_d_0001.append(act_kd0_0001.std())\n",
    "    #def_kd0_0001 = Ts_kd0_0001*def_lyfkd0_0001[i]['lyf']\n",
    "    #def_kd0_m_0001.append(def_kd0_0001.mean())\n",
    "    #def_kd0_d_0001.append(def_kd0_0001.std())\n",
    "    \n",
    "for i in range(8):\n",
    "    act_001 = Ts001*act_lyf001[i]['lyf']\n",
    "    act_001_m.append(act_001.mean())\n",
    "    act_001_d.append(act_001.std())\n",
    "    #def_001 = Ts_001*def_lyf001[i]['lyf']\n",
    "    #def_001_m.append(def_001.mean())\n",
    "    #def_001_d.append(def_001.std())\n",
    "    \n",
    "for i in range(5):\n",
    "    act_0001 = Ts0001*act_lyf0001[i]['lyf']\n",
    "    act_0001_m.append(act_0001.mean())\n",
    "    act_0001_d.append(act_0001.std())\n",
    "    #def_0001 = Ts_0001*def_lyf0001[i]['lyf']\n",
    "    #def_0001_m.append(def_0001.mean())\n",
    "    #def_0001_d.append(def_0001.std())\n",
    "    \n",
    "for i in range(8):\n",
    "    act_00001 = Ts00001*act_lyf00001[i]['lyf']\n",
    "    act_00001_m.append(act_00001.mean())\n",
    "    act_00001_d.append(act_00001.std())\n",
    "    #def_00001 = Ts_00001*def_lyf00001[i]['lyf']\n",
    "    #def_00001_m.append(def_00001.mean())\n",
    "    #def_00001_d.append(def_00001.std())"
   ]
  },
  {
   "cell_type": "code",
   "execution_count": 30,
   "metadata": {},
   "outputs": [
    {
     "data": {
      "image/png": "[encoded data removed]",
      "text/plain": [
       "<Figure size 425.197x283.465 with 1 Axes>"
      ]
     },
     "metadata": {},
     "output_type": "display_data"
    }
   ],
   "source": [
    "fig, ax = plt.subplots(1,1, figsize=(15*cm,10*cm))\n",
    "\n",
    "#ax.errorbar(r_kd0,act_kd0_m,act_kd0_d, capsize=3, linestyle='--', linewidth=1, elinewidth=1, color='black', marker='o', markerfacecolor='none', ecolor='black', label='Ts = 0.01-kd0')\n",
    "ax.errorbar(r_kd0_0001,act_kd0_m_0001,act_kd0_d_0001, capsize=3, linestyle='--', linewidth=1, elinewidth=1, color='grey', marker='o', markerfacecolor='lightgrey', ecolor='grey', label='Ts = 0.001-kd0')\n",
    "#ax.errorbar(r_001,act_001_m,act_001_d, capsize=3, linestyle='--', linewidth=1, elinewidth=1, color='red', marker='o', markerfacecolor='none', ecolor='red', label='Ts = 0.01')\n",
    "ax.errorbar(r_0001,act_0001_m,act_0001_d, capsize=3, linestyle='--', linewidth=1, elinewidth=1, color='green', marker='o', markerfacecolor='lightgreen', ecolor='green', label='Ts = 0.001')\n",
    "#ax.errorbar(r_00001,act_00001_m,act_00001_d, capsize=3, linestyle='--', linewidth=1, elinewidth=1, color='blue', marker='o', markerfacecolor='none', ecolor='blue', label='Ts = 0.0001')\n",
    "\n",
    "ax.spines['right'].set_visible(False)\n",
    "ax.spines['top'].set_visible(False)\n",
    "\n",
    "#ax.spines['bottom'].set_position(('axes',-0.01))\n",
    "#ax.spines['left'].set_position(('axes',-0.01))\n",
    "#ax.spines['left'].set_bounds(0,0.030)\n",
    "\n",
    "ax.xaxis.set_ticks_position('bottom')\n",
    "ax.yaxis.set_ticks_position('left')\n",
    "\n",
    "ax.set_xticks(np.arange(0.7,1.0,step=0.1))\n",
    "#ax.set_yticks(np.arange(0,0.031,0.005))\n",
    "\n",
    "ax.minorticks_on()\n",
    "ax.tick_params('both',direction='in',top=False,right=False,length=8, width=0.5,which='major', labelsize=14)\n",
    "ax.tick_params('both',direction='in',top=False,right=False,length=4, width=0.4,which='minor', labelsize=14)\n",
    "\n",
    "#for x,y in zip(r,def_m):\n",
    "#    label = \"{:.4f}\".format(y)\n",
    "#    ax.annotate(label,(x,y),textcoords=\"offset points\",xytext=(0.5,10),ha='left', color='blue')\n",
    "    #https://queirozf.com/entries/add-labels-and-text-to-matplotlib-plots-annotation-examples\n",
    "\n",
    "#===============================================================================\n",
    "#ax.set_title('Active Motor Lifetime', fontsize=18)\n",
    "ax.set_xlabel('Assay active ratio', fontsize=16)\n",
    "ax.set_ylabel('Lifetime (sec.)', fontsize=16)\n",
    "#ax.legend()\n",
    "\n",
    "#fig.text(0.55,-0.01,'(b)', ha='center', fontsize= 16) # (a) is in 'Speed_BindingM/fig' folder\n",
    "\n",
    "fig.tight_layout()\n",
    "#plt.savefig('fig/v11aBindingMotorRatio.svg', fmt='svg', dip='1200', bbox_inches='tight')\n",
    "#plt.savefig('fig/v11aBindingMotorRatio.png', fmt='png', dip='1500', bbox_inches='tight')\n",
    "#plt.savefig('fig/compareLife_R01_09s5dt02.png', format='png', dpi=500, bbox_inches='tight')\n",
    "\n",
    "#plt.savefig('fig/lyf_tym_cmpr.svg', format='svg', dpi=500, bbox_inches='tight')\n",
    "#plt.savefig('fig/lyf_tym_cmpr.pdf', format='pdf', dpi=500, bbox_inches='tight')\n",
    "\n",
    "plt.show()"
   ]
  },
  {
   "cell_type": "code",
   "execution_count": 26,
   "metadata": {},
   "outputs": [
    {
     "data": {
      "text/plain": [
       "0"
      ]
     },
     "execution_count": 26,
     "metadata": {},
     "output_type": "execute_result"
    }
   ],
   "source": [
    "import subprocess\n",
    "subprocess.call('inkscape fig/lyf_tym_cmpr.svg -M fig/lyf_tym_cmpr.emf', shell=True)"
   ]
  },
  {
   "cell_type": "code",
   "execution_count": 7,
   "metadata": {},
   "outputs": [
    {
     "name": "stdout",
     "output_type": "stream",
     "text": [
      "[NbConvertApp] Converting notebook lifetime_all.ipynb to html\n",
      "[NbConvertApp] Writing 610947 bytes to lifetime_all.html\n"
     ]
    }
   ],
   "source": [
    "!jupyter nbconvert 18-03-2021_lifetime_all.ipynb --no-input --to html"
   ]
  },
  {
   "cell_type": "code",
   "execution_count": null,
   "metadata": {},
   "outputs": [],
   "source": []
  }
 ],
 "metadata": {
  "kernelspec": {
   "display_name": "Python 3",
   "language": "python",
   "name": "python3"
  },
  "language_info": {
   "codemirror_mode": {
    "name": "ipython",
    "version": 3
   },
   "file_extension": ".py",
   "mimetype": "text/x-python",
   "name": "python",
   "nbconvert_exporter": "python",
   "pygments_lexer": "ipython3",
   "version": "3.6.7"
  }
 },
 "nbformat": 4,
 "nbformat_minor": 4
}
