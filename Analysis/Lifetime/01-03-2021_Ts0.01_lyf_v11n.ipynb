{
 "cells": [
  {
   "cell_type": "code",
   "execution_count": 1,
   "metadata": {},
   "outputs": [],
   "source": [
    "import numpy as np\n",
    "import pandas as pd\n",
    "import matplotlib.pyplot as plt\n",
    "\n",
    "plt.style.use('ggplot')\n",
    "cm = 1/2.54\n",
    "\n",
    "#from scipy.interpolate import spline\n",
    "# jupyter nbconvert xxx.ipynb --no-input"
   ]
  },
  {
   "cell_type": "code",
   "execution_count": 2,
   "metadata": {},
   "outputs": [],
   "source": [
    "r_77 = np.array([0.70,0.80,0.82,0.84,0.86,0.88,0.90,0.92,0.94,0.96,0.98,1.0]) # ATP2000\n",
    "Ts77 = 0.01\n",
    "r_ATP500 = np.array([0.70,0.80,0.88,0.90,0.92,0.94,0.96,0.98,1.0])\n",
    "TsATP500 = 0.01"
   ]
  },
  {
   "cell_type": "code",
   "execution_count": 3,
   "metadata": {},
   "outputs": [],
   "source": [
    "act_lyf77 = []; def_lyf77 = []\n",
    "act_lyfATP500 = []; def_lyfATP500 = []\n",
    "\n",
    "for r  in [70,80,82,84,86,88,90,92,94,96,98,99]: # 99 for simplicity... it is actually 1.00 \n",
    "    act_lyf_77_ = pd.read_csv('lyfData/S77/actLyf_Ts0.01_S77T5R0.'+str(r)+'.csv', names=['im', 'c', 'xm',\t'ym', 'lyf']) # 'x','y','lyf'\n",
    "    act_lyf77.append(act_lyf_77_)\n",
    "    try:\n",
    "        def_lyf_77_ = pd.read_csv('lyfData/S77/defLyf_Ts0.01_S77T5R0.'+str(r)+'.csv', names=['im', 'c', 'xm',\t'ym', 'lyf'])\n",
    "        def_lyf77.append(act_lyf_77_)\n",
    "    except:\n",
    "        pass; #print('passed: '+str(r))\n",
    "    \n",
    "for r  in [70,80,88,90,92,94,96,98,99]:\n",
    "    act_lyf_ATP500_ = pd.read_csv('lyfData/ATP500/actLyf_Ts0.01_S77T5ATP500R0.'+str(r)+'.csv', names=['im', 'c', 'xm',\t'ym', 'lyf']) # 'x','y','lyf'\n",
    "    act_lyfATP500.append(act_lyf_ATP500_)\n",
    "    try:\n",
    "        def_lyf_ATP500_ = pd.read_csv('lyfData/ATP500/defLyf_Ts0.01_S77T5ATP500R0.'+str(r)+'.csv', names=['im', 'c', 'xm',\t'ym', 'lyf'])\n",
    "        def_lyfATP500.append(act_lyf_ATP500_)\n",
    "    except:\n",
    "        pass; #print('passed: '+str(r))    \n",
    "        "
   ]
  },
  {
   "cell_type": "code",
   "execution_count": 4,
   "metadata": {},
   "outputs": [],
   "source": [
    "act_77 = []; act_77_m = []; act_77_d = []\n",
    "def_77 = []; def_77_m = []; def_77_d = []\n",
    "act_ATP500 = []; act_ATP500_m = []; act_ATP500_d = []\n",
    "def_ATP500 = []; def_ATP500_m = []; def_ATP500_d = []\n",
    "\n",
    "act_001 = []; act_001_m = []; act_001_d = []\n",
    "def_001 = []; def_001_m = []; def_001_d = []\n",
    "act_0001 = []; act_0001_m = []; act_0001_d = []\n",
    "def_0001 = []; def_0001_m = []; def_0001_d = []\n",
    "act_00001 = []; act_00001_m = []; act_00001_d = []\n",
    "def_00001 = []; def_00001_m = []; def_00001_d = []\n",
    "\n",
    "for i in range(12):\n",
    "    act_77 = Ts77*act_lyf77[i]['lyf']\n",
    "    act_77_m.append(act_77.mean())\n",
    "    act_77_d.append(act_77.std())\n",
    "    #def_kd0 = Ts_kd0*def_lyfkd0[i]['lyf']\n",
    "    #def_kd0_m.append(def_kd0.mean())\n",
    "    #def_kd0_d.append(def_kd0.std())\n",
    "    \n",
    "for i in range(9):\n",
    "    act_ATP500 = TsATP500*act_lyfATP500[i]['lyf']\n",
    "    act_ATP500_m.append(act_ATP500.mean())\n",
    "    act_ATP500_d.append(act_ATP500.std())\n",
    "    #def_kd0_0001 = Ts_kd0_0001*def_lyfkd0_0001[i]['lyf']\n",
    "    #def_kd0_m_0001.append(def_kd0_0001.mean())\n",
    "    #def_kd0_d_0001.append(def_kd0_0001.std())\n",
    "    "
   ]
  },
  {
   "cell_type": "code",
   "execution_count": 10,
   "metadata": {},
   "outputs": [
    {
     "data": {
      "image/png": "[encoded data removed]",
      "text/plain": [
       "<Figure size 425.197x283.465 with 1 Axes>"
      ]
     },
     "metadata": {},
     "output_type": "display_data"
    }
   ],
   "source": [
    "fig, ax = plt.subplots(1,1, figsize=(15*cm,10*cm))\n",
    "\n",
    "ax.errorbar(r_77,act_77_m,act_77_d, capsize=3, linestyle='--', linewidth=1, elinewidth=1, color='green', marker='o', markerfacecolor='lightgreen', ecolor='lightgreen', label='ATP2000')\n",
    "ax.errorbar(r_ATP500,act_ATP500_m,act_ATP500_d, capsize=3, linestyle='--', linewidth=1, elinewidth=1, color='gray', marker='o', markerfacecolor='lightgray', ecolor='lightgray', label='ATP500')\n",
    "#ax.errorbar(r_001,act_001_m,act_001_d, capsize=3, linestyle='--', linewidth=2, elinewidth=1, color='red', marker='o', markersize=8, markerfacecolor='none', ecolor='red', label='Ts = 0.01')\n",
    "#ax.errorbar(r_0001,act_0001_m,act_0001_d, capsize=3, linestyle='--', linewidth=2, elinewidth=1, color='green', marker='o', markersize=8, markerfacecolor='none', ecolor='green', label='Ts = 0.001')\n",
    "#ax.errorbar(r_00001,act_00001_m,act_00001_d, capsize=3, linestyle='--', linewidth=2, elinewidth=1, color='blue', marker='o', markersize=8, markerfacecolor='none', ecolor='blue', label='Ts = 0.0001')\n",
    "\n",
    "ax.spines['right'].set_visible(False)\n",
    "ax.spines['top'].set_visible(False)\n",
    "\n",
    "#ax.spines['bottom'].set_position(('axes',-0.01))\n",
    "#ax.spines['left'].set_position(('axes',-0.01))\n",
    "#ax.spines['left'].set_bounds(0,0.030)\n",
    "\n",
    "ax.xaxis.set_ticks_position('bottom')\n",
    "ax.yaxis.set_ticks_position('left')\n",
    "\n",
    "#ax.set_xticks(np.arange(0.68,1.1,step=0.08))\n",
    "#ax.set_yticks(np.arange(0,0.031,0.005))\n",
    "\n",
    "ax.minorticks_on()\n",
    "ax.tick_params('both',direction='in',top=False,right=False,length=8, width=0.5,which='major')\n",
    "ax.tick_params('both',direction='in',top=False,right=False,length=4, width=0.4,which='minor')\n",
    "\n",
    "#for x,y in zip(r,def_m):\n",
    "#    label = \"{:.4f}\".format(y)\n",
    "#    ax.annotate(label,(x,y),textcoords=\"offset points\",xytext=(0.5,10),ha='left', color='blue')\n",
    "    #https://queirozf.com/entries/add-labels-and-text-to-matplotlib-plots-annotation-examples\n",
    "\n",
    "#===============================================================================\n",
    "#ax.set_title('Active Motor Lifetime', fontsize=18)\n",
    "ax.set_xlabel('Motor ratio', fontsize=16)\n",
    "ax.set_ylabel('Lifetime (sec.)', fontsize=16)\n",
    "ax.legend()\n",
    "\n",
    "#fig.text(0.5,-0.05,'Motor ratio', ha='center', fontsize= 16)\n",
    "\n",
    "fig.tight_layout()\n",
    "#plt.savefig('fig/v11aBindingMotorRatio.svg', fmt='svg', dip='1200', bbox_inches='tight')\n",
    "#plt.savefig('fig/v11aBindingMotorRatio.png', fmt='png', dip='1500', bbox_inches='tight')\n",
    "\n",
    "#plt.savefig('fig/compareLife_ATP500_2000.pdf', format='pdf', dpi=500, bbox_inches='tight')\n",
    "plt.show()"
   ]
  },
  {
   "cell_type": "code",
   "execution_count": 7,
   "metadata": {},
   "outputs": [
    {
     "name": "stdout",
     "output_type": "stream",
     "text": [
      "[NbConvertApp] Converting notebook lifetime_all.ipynb to html\n",
      "[NbConvertApp] Writing 610947 bytes to lifetime_all.html\n"
     ]
    }
   ],
   "source": [
    "!jupyter nbconvert 01-03-2021_Ts0.01_lyf_v11n.ipynb --no-input --to html"
   ]
  },
  {
   "cell_type": "code",
   "execution_count": null,
   "metadata": {},
   "outputs": [],
   "source": []
  }
 ],
 "metadata": {
  "kernelspec": {
   "display_name": "Python 3",
   "language": "python",
   "name": "python3"
  },
  "language_info": {
   "codemirror_mode": {
    "name": "ipython",
    "version": 3
   },
   "file_extension": ".py",
   "mimetype": "text/x-python",
   "name": "python",
   "nbconvert_exporter": "python",
   "pygments_lexer": "ipython3",
   "version": "3.5.2"
  }
 },
 "nbformat": 4,
 "nbformat_minor": 4
}
