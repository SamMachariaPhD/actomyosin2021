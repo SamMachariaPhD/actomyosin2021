{
 "cells": [
  {
   "cell_type": "code",
   "execution_count": 1,
   "metadata": {},
   "outputs": [],
   "source": [
    "import numpy as np\n",
    "import matplotlib.pyplot as plt\n",
    "import pandas as pd \n",
    "import os, glob\n",
    "import seaborn as sns\n",
    "from scipy.optimize import curve_fit\n",
    "plt.style.use(\"ggplot\")\n",
    "cm = 1/2.54"
   ]
  },
  {
   "cell_type": "code",
   "execution_count": 2,
   "metadata": {},
   "outputs": [],
   "source": [
    "#conff0 = glob.glob('data/Conformation_A001f0s**.txt')\n",
    "conff0 = glob.glob('data/ConfT5F0S**.txt')\n",
    "conff0 = sorted(conff0)\n",
    "# conff1 = glob.glob('data/Conformation_A001f1s**.txt')\n",
    "# conff1 = sorted(conff1)"
   ]
  },
  {
   "cell_type": "code",
   "execution_count": 3,
   "metadata": {},
   "outputs": [
    {
     "data": {
      "text/plain": [
       "['data/ConfT5F0S21.txt',\n",
       " 'data/ConfT5F0S22.txt',\n",
       " 'data/ConfT5F0S23.txt',\n",
       " 'data/ConfT5F0S24.txt',\n",
       " 'data/ConfT5F0S25.txt']"
      ]
     },
     "execution_count": 3,
     "metadata": {},
     "output_type": "execute_result"
    }
   ],
   "source": [
    "conff0"
   ]
  },
  {
   "cell_type": "code",
   "execution_count": 32,
   "metadata": {},
   "outputs": [],
   "source": [
    "beads = 13; \n",
    "#jmp = 5 ; dt = 'dt05'; Dt = 0.05\n",
    "#jmp = 10 ; dt = 'dt1'; Dt = 0.1\n",
    "#jmp = 20 ; dt = 'dt2'; Dt = 0.2\n",
    "#jmp = 30 ; dt = 'dt3'; Dt = 0.3\n",
    "jmp = 50 ; dt = 'dt5'; Dt = 0.5\n",
    "v0 = 7.2; v1 = 7.8\n",
    "\n",
    "conf0 = []; conf1 = []; \n",
    "xdiff0 = []; ydiff0 = []; \n",
    "xdiff1 = []; ydiff1 = []; \n",
    "bf0 = []; bf1 = []\n",
    "\n",
    "for i in conff0:\n",
    "    _ = pd.read_csv(i, names=['t','x','y','z'], delim_whitespace=True)\n",
    "    _ = _[0::beads]\n",
    "    _ = _[0::jmp]\n",
    "    conf0.append(_)\n",
    "    xdiff0.append(np.diff(_['x']))\n",
    "    ydiff0.append(np.diff(_['y']))\n",
    "    \n",
    "# for j in conff1:\n",
    "#     _ = pd.read_csv(j, names=['t','x','y','z'], delim_whitespace=True)\n",
    "#     _ = _[0::beads]\n",
    "#     _ = _[0::jmp]\n",
    "#     conf1.append(_)\n",
    "#     xdiff1.append(np.diff(_['x']))\n",
    "#     ydiff1.append(np.diff(_['y']))\n"
   ]
  },
  {
   "cell_type": "markdown",
   "metadata": {},
   "source": [
    "$|b_1| = \\sqrt{(x_2-x_1)^2 + (y_2-y_1)^2}$"
   ]
  },
  {
   "cell_type": "markdown",
   "metadata": {},
   "source": [
    "$U_{b1} = \\frac{1}{|b_1|} \\times ((x_2-x_1), (y_2-y_1))$"
   ]
  },
  {
   "cell_type": "code",
   "execution_count": 33,
   "metadata": {},
   "outputs": [],
   "source": [
    "ubx0 = []; uby0 = []\n",
    "ubx1 = []; uby1 = []\n",
    "\n",
    "for i in range(len(xdiff0)):\n",
    "    b0 = np.sqrt(xdiff0[i]**2 + ydiff0[i]**2)\n",
    "    ubx0.append(xdiff0[i]/b0)\n",
    "    uby0.append(ydiff0[i]/b0)\n",
    "\n",
    "# for j in range(len(xdiff1)):\n",
    "#     b1 = np.sqrt(xdiff1[j]**2 + ydiff1[j]**2)\n",
    "#     ubx1.append(xdiff1[j]/b1)\n",
    "#     uby1.append(ydiff1[j]/b1)"
   ]
  },
  {
   "cell_type": "code",
   "execution_count": null,
   "metadata": {},
   "outputs": [],
   "source": []
  },
  {
   "cell_type": "code",
   "execution_count": 34,
   "metadata": {},
   "outputs": [],
   "source": [
    "ub0 = []; ub1 = []\n",
    "\n",
    "for i in range(len(ubx0)):\n",
    "    ub0.append(pd.DataFrame({'ubx':ubx0[i], 'uby':uby0[i]}))\n",
    "    \n",
    "# for j in range(len(ubx1)):\n",
    "#     ub1.append(pd.DataFrame({'ubx':ubx1[j], 'uby':uby1[j]}))"
   ]
  },
  {
   "cell_type": "markdown",
   "metadata": {},
   "source": [
    "for $\\Delta s = 1$, calculate $<cos \\Delta \\theta(1)>$: <br>\n",
    "mean of $Ub_1\\cdot Ub_{1+1} + Ub_2\\cdot Ub_{2+1} + Ub_3\\cdot Ub_{3+1} + \\cdots + Ub_{L-1}\\cdot Ub_L$ <br>\n",
    "\n",
    "for $\\Delta s = 2$, calculate $<cos \\Delta \\theta(2)>$: <br>\n",
    "mean of $Ub_1\\cdot Ub_{1+2} + Ub_2\\cdot Ub_{2+2} + Ub_3\\cdot Ub_{3+2} + \\cdots + Ub_{L-2}\\cdot Ub_L$ <br>\n",
    "\n",
    "Persistence length = plot(s,mean of Ubs)"
   ]
  },
  {
   "cell_type": "code",
   "execution_count": 35,
   "metadata": {},
   "outputs": [],
   "source": [
    "_ = []; ds0 = []; dsm0 = []; s0 = []; c = 0; ds0_ = []; dsm_ = []; s_ = []\n",
    "\n",
    "# try:\n",
    "#     os.remove('ds_ub_status.txt')\n",
    "# except:\n",
    "#     print(\"'ds_ub_status.txt' does not exist.\")\n",
    "    \n",
    "for h in range(len(ub0)):\n",
    "    for i in range(len(ub0[h])): # len(ub0[h])-1\n",
    "#         print(\"Ds = %s\"%i, file=open('ds_ub_status.txt','a'))\n",
    "        for j in range(len(ub0[h])): # len(ub0[h])-1\n",
    "            try:\n",
    "                _.append(np.dot(ub0[h].loc[j].values,ub0[h].loc[j+i].values))\n",
    "#                 print(\"Ub%s.Ub%s\"%(j,j+i), file=open('ds_ub_status.txt','a'))\n",
    "            except:\n",
    "                pass #print(\"No: Ub%s.Ub%s\"%(j,j+i))\n",
    "        ds0_.append(_) # not necessary to save or is it?\n",
    "        dsm_.append(np.mean(_))\n",
    "        s_.append(c)\n",
    "        _ = [] # empty this bucket\n",
    "        c+=1\n",
    "    s0.append(s_)\n",
    "    dsm0.append(dsm_)\n",
    "    ds0.append(ds0_)\n",
    "    c = 0; ds0_ = []; dsm_ = []; s_ = [] # reset stuff\n",
    "\n",
    "s0 = np.array(s0)\n",
    "#ds0 = np.array(ds0)\n",
    "dsm0 = np.array(dsm0)"
   ]
  },
  {
   "cell_type": "code",
   "execution_count": null,
   "metadata": {},
   "outputs": [],
   "source": []
  },
  {
   "cell_type": "code",
   "execution_count": 36,
   "metadata": {},
   "outputs": [],
   "source": [
    "# _ = []; ds1 = []; dsm1 = []; s1 = []; c = 0; ds1_ = []; dsm_ = []; s_ = []\n",
    "\n",
    "# # try:\n",
    "# #     os.remove('ds_ub_status.txt')\n",
    "# # except:\n",
    "# #     print(\"'ds_ub_status.txt' does not exist.\")\n",
    "    \n",
    "# for h in range(len(ub1)):\n",
    "#     for i in range(len(ub1[h])-1):\n",
    "# #         print(\"Ds = %s\"%i, file=open('ds_ub_status.txt','a'))\n",
    "#         for j in range(len(ub1[h])-1):\n",
    "#             try:\n",
    "#                 _.append(np.dot(ub1[h].loc[j].values,ub1[h].loc[j+i].values))\n",
    "# #                 print(\"Ub%s.Ub%s\"%(j,j+i), file=open('ds_ub_status.txt','a'))\n",
    "#             except:\n",
    "#                 pass #print(\"No: Ub%s.Ub%s\"%(j,j+i))\n",
    "#         ds1_.append(_) # not necessary to save\n",
    "#         dsm_.append(np.mean(_))\n",
    "#         s_.append(c)\n",
    "#         _ = [] # empty this bucket\n",
    "#         c+=1\n",
    "#     s1.append(s_)\n",
    "#     dsm1.append(dsm_)\n",
    "#     ds1.append(ds1_)\n",
    "#     c = 0; ds1_ = []; dsm_ = []; s_ = [] # reset stuff\n",
    "\n",
    "# s1 = np.array(s1)\n",
    "# #ds1 = np.array(ds1)\n",
    "# dsm1 = np.array(dsm1)"
   ]
  },
  {
   "cell_type": "code",
   "execution_count": 37,
   "metadata": {},
   "outputs": [
    {
     "data": {
      "text/plain": [
       "5"
      ]
     },
     "execution_count": 37,
     "metadata": {},
     "output_type": "execute_result"
    }
   ],
   "source": [
    "len(s0)"
   ]
  },
  {
   "cell_type": "code",
   "execution_count": 38,
   "metadata": {},
   "outputs": [],
   "source": [
    "# Run the whole program as many times as the Dt needed\n",
    "\n",
    "dfs0 = pd.DataFrame({'s00':s0[0], 's01':s0[1], 's02':s0[2], 's03':s0[3], 's03':s0[4]})\n",
    "dfdsm0 = pd.DataFrame({'dsm00':dsm0[0], 'dsm01':dsm0[1], 'dsm02':dsm0[2], 'dsm03':dsm0[3], 'dsm03':dsm0[4]})\n",
    "\n",
    "s0_m = dfs0.mean(axis=1)*v0*Dt\n",
    "s0_m.to_csv('data/s0_m'+dt+'.csv', index=False)\n",
    "dsm0_m = dfdsm0.mean(axis=1)\n",
    "dsm0_m.to_csv('data/dsm0_m'+dt+'.csv', index=False)\n",
    "\n",
    "# dfs1 = pd.DataFrame({'s10':s1[0], 's11':s1[1], 's12':s0[2], 's13':s1[3]})\n",
    "# dfdsm1 = pd.DataFrame({'dsm10':dsm1[0], 'dsm11':dsm1[1], 'dsm12':dsm1[2], 'dsm13':dsm1[3]})\n",
    "\n",
    "# s1_m = dfs1.mean(axis=1)*v1*Dt\n",
    "# s1_m.to_csv('data/s1_m'+dt+'.csv', index=False)\n",
    "# dsm1_m = dfdsm1.mean(axis=1)\n",
    "# dsm1_m.to_csv('data/dsm1_m'+dt+'.csv', index=False)"
   ]
  },
  {
   "cell_type": "code",
   "execution_count": null,
   "metadata": {},
   "outputs": [],
   "source": []
  },
  {
   "cell_type": "code",
   "execution_count": 39,
   "metadata": {},
   "outputs": [],
   "source": [
    "s0_ = glob.glob('data/s0_mdt**.csv')\n",
    "s0_ = sorted(s0_)\n",
    "# s1_ = glob.glob('data/s1_mdt**.csv')\n",
    "# s1_ = sorted(s1_)\n",
    "dsm0_ = glob.glob('data/dsm0_mdt**.csv')\n",
    "dsm0_ = sorted(dsm0_)\n",
    "# dsm1_ = glob.glob('data/dsm1_mdt**.csv')\n",
    "# dsm1_ = sorted(dsm1_)"
   ]
  },
  {
   "cell_type": "code",
   "execution_count": 40,
   "metadata": {},
   "outputs": [
    {
     "data": {
      "text/plain": [
       "['data/s0_mdt05.csv',\n",
       " 'data/s0_mdt1.csv',\n",
       " 'data/s0_mdt2.csv',\n",
       " 'data/s0_mdt3.csv',\n",
       " 'data/s0_mdt5.csv']"
      ]
     },
     "execution_count": 40,
     "metadata": {},
     "output_type": "execute_result"
    }
   ],
   "source": [
    "s0_"
   ]
  },
  {
   "cell_type": "code",
   "execution_count": 41,
   "metadata": {},
   "outputs": [],
   "source": [
    "s0m = []; s1m = []; dsm0 = []; dsm1 = []\n",
    "\n",
    "for i in s0_:\n",
    "    _ = pd.read_csv(i, names=['s0m'])\n",
    "    s0m.append(_)\n",
    "    \n",
    "# for j in s1_:\n",
    "#     _ = pd.read_csv(j, names=['s1m'])\n",
    "#     s1m.append(_)\n",
    "    \n",
    "for k in dsm0_:\n",
    "    _ = pd.read_csv(k, names=['dsm0'])\n",
    "    dsm0.append(_)\n",
    "    \n",
    "# for l in dsm1_:\n",
    "#     _ = pd.read_csv(l, names=['dsm1'])\n",
    "#     dsm1.append(_)"
   ]
  },
  {
   "cell_type": "code",
   "execution_count": 42,
   "metadata": {},
   "outputs": [
    {
     "data": {
      "text/plain": [
       "5"
      ]
     },
     "execution_count": 42,
     "metadata": {},
     "output_type": "execute_result"
    }
   ],
   "source": [
    "len(dsm0)"
   ]
  },
  {
   "cell_type": "code",
   "execution_count": 58,
   "metadata": {},
   "outputs": [
    {
     "data": {
      "image/png": "[encoded data removed]",
      "text/plain": [
       "<Figure size 283.465x283.465 with 1 Axes>"
      ]
     },
     "metadata": {
      "needs_background": "light"
     },
     "output_type": "display_data"
    }
   ],
   "source": [
    "fig, ax = plt.subplots(1,1, figsize=(10*cm,10*cm))\n",
    "\n",
    "dts = [0.05,0.1,0.2,0.3,0.5]; c=0\n",
    "\n",
    "for i in range(len(s0m)):\n",
    "    ax.plot(s0m[i],dsm0[i], marker='o', markersize=3, ls='--', lw=1, markerfacecolor='lime', label=r'$\\Delta t = %.2f sec.$'%dts[c])\n",
    "    c+=1\n",
    "ax.minorticks_on()\n",
    "ax.tick_params('both', direction='in', top=True, right=True, \\\n",
    "length=8, which='major')\n",
    "ax.tick_params('both', direction='in', length=4, which='minor')\n",
    "\n",
    "ax.set_xlabel(r'$(\\Delta s \\cdot V \\cdot \\Delta t)\\ \\mu m$', fontsize=14)\n",
    "ax.set_ylabel(r'$\\langle cos (\\Delta \\theta) \\rangle_s$', fontsize=14)\n",
    "ax.set_title('F = 0.0 pN', fontsize=14)\n",
    "plt.legend()\n",
    "\n",
    "#plt.savefig('fig/Lp-Dt-changes.pdf', format='pdf', bbox_inches='tight')\n",
    "plt.show()"
   ]
  },
  {
   "cell_type": "code",
   "execution_count": null,
   "metadata": {},
   "outputs": [],
   "source": []
  }
 ],
 "metadata": {
  "kernelspec": {
   "display_name": "Python 3",
   "language": "python",
   "name": "python3"
  },
  "language_info": {
   "codemirror_mode": {
    "name": "ipython",
    "version": 3
   },
   "file_extension": ".py",
   "mimetype": "text/x-python",
   "name": "python",
   "nbconvert_exporter": "python",
   "pygments_lexer": "ipython3",
   "version": "3.5.2"
  }
 },
 "nbformat": 4,
 "nbformat_minor": 2
}
