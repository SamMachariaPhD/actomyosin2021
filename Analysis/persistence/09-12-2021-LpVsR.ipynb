{
 "cells": [
  {
   "cell_type": "code",
   "execution_count": 1,
   "metadata": {},
   "outputs": [],
   "source": [
    "import numpy as np\n",
    "import matplotlib.pyplot as plt\n",
    "import pandas as pd \n",
    "import os, glob\n",
    "import seaborn as sns\n",
    "from scipy.optimize import curve_fit\n",
    "plt.style.use(\"ggplot\")\n",
    "cm = 1/2.54"
   ]
  },
  {
   "cell_type": "code",
   "execution_count": 23,
   "metadata": {},
   "outputs": [],
   "source": [
    "dta = pd.read_csv('Lp-all.csv')\n",
    "r = np.array([1.00,0.98,0.96,0.94])"
   ]
  },
  {
   "cell_type": "code",
   "execution_count": 24,
   "metadata": {},
   "outputs": [
    {
     "data": {
      "text/html": [
       "<div>\n",
       "<style scoped>\n",
       "    .dataframe tbody tr th:only-of-type {\n",
       "        vertical-align: middle;\n",
       "    }\n",
       "\n",
       "    .dataframe tbody tr th {\n",
       "        vertical-align: top;\n",
       "    }\n",
       "\n",
       "    .dataframe thead th {\n",
       "        text-align: right;\n",
       "    }\n",
       "</style>\n",
       "<table border=\"1\" class=\"dataframe\">\n",
       "  <thead>\n",
       "    <tr style=\"text-align: right;\">\n",
       "      <th></th>\n",
       "      <th>Lp</th>\n",
       "      <th>err</th>\n",
       "      <th>Lp10</th>\n",
       "      <th>err10</th>\n",
       "    </tr>\n",
       "  </thead>\n",
       "  <tbody>\n",
       "    <tr>\n",
       "      <th>0</th>\n",
       "      <td>3.8614</td>\n",
       "      <td>0.2218</td>\n",
       "      <td>4.6758</td>\n",
       "      <td>0.0690</td>\n",
       "    </tr>\n",
       "    <tr>\n",
       "      <th>1</th>\n",
       "      <td>9.1390</td>\n",
       "      <td>0.9437</td>\n",
       "      <td>4.2948</td>\n",
       "      <td>0.0343</td>\n",
       "    </tr>\n",
       "    <tr>\n",
       "      <th>2</th>\n",
       "      <td>5.6528</td>\n",
       "      <td>0.2243</td>\n",
       "      <td>3.1038</td>\n",
       "      <td>0.0516</td>\n",
       "    </tr>\n",
       "    <tr>\n",
       "      <th>3</th>\n",
       "      <td>5.7193</td>\n",
       "      <td>0.2856</td>\n",
       "      <td>2.2398</td>\n",
       "      <td>0.1761</td>\n",
       "    </tr>\n",
       "  </tbody>\n",
       "</table>\n",
       "</div>"
      ],
      "text/plain": [
       "       Lp     err    Lp10   err10\n",
       "0  3.8614  0.2218  4.6758  0.0690\n",
       "1  9.1390  0.9437  4.2948  0.0343\n",
       "2  5.6528  0.2243  3.1038  0.0516\n",
       "3  5.7193  0.2856  2.2398  0.1761"
      ]
     },
     "execution_count": 24,
     "metadata": {},
     "output_type": "execute_result"
    }
   ],
   "source": [
    "dta"
   ]
  },
  {
   "cell_type": "code",
   "execution_count": 27,
   "metadata": {},
   "outputs": [
    {
     "data": {
      "image/png": "[encoded data removed]",
      "text/plain": [
       "<Figure size 283.465x283.465 with 1 Axes>"
      ]
     },
     "metadata": {
      "needs_background": "light"
     },
     "output_type": "display_data"
    }
   ],
   "source": [
    "fig, ax = plt.subplots(1,1, figsize=(10*cm,10*cm))\n",
    "\n",
    "#ax.errorbar(r,dta['Lp'], dta['err'], marker='o', markersize=3, ls='--')\n",
    "ax.errorbar(r,dta['Lp10'], dta['err10'], capsize=3, linestyle='--', lw=1, color = 'blue', mec = 'blue', marker='o',\\\n",
    "             markerfacecolor='yellow', ecolor='blue', elinewidth=1)\n",
    "\n",
    "ax.minorticks_on()\n",
    "ax.tick_params('both', direction='in', top=True, right=True, \\\n",
    "length=8, which='major')\n",
    "ax.tick_params('both', direction='in', length=4, which='minor')\n",
    "\n",
    "ax.set_xlabel(r'$r_{substrate}$', fontsize=14)\n",
    "ax.set_ylabel(r'$Lp\\ (\\mu m)$', fontsize=14)\n",
    "#ax.set_title('F = 0.0 pN', fontsize=14)\n",
    "#plt.legend()\n",
    "\n",
    "#plt.savefig('fig/Lp-R.pdf', format='pdf', bbox_inches='tight')\n",
    "plt.show()"
   ]
  },
  {
   "cell_type": "code",
   "execution_count": 13,
   "metadata": {},
   "outputs": [
    {
     "data": {
      "text/plain": [
       "'1.0'"
      ]
     },
     "execution_count": 13,
     "metadata": {},
     "output_type": "execute_result"
    }
   ],
   "source": [
    "r = 1.00; R = str(round(r,2)); R"
   ]
  },
  {
   "cell_type": "code",
   "execution_count": 14,
   "metadata": {},
   "outputs": [
    {
     "data": {
      "text/plain": [
       "'1.00'"
      ]
     },
     "execution_count": 14,
     "metadata": {},
     "output_type": "execute_result"
    }
   ],
   "source": [
    "R = \"{0:.2f}\".format(r); R"
   ]
  },
  {
   "cell_type": "code",
   "execution_count": null,
   "metadata": {},
   "outputs": [],
   "source": []
  }
 ],
 "metadata": {
  "kernelspec": {
   "display_name": "Python 3",
   "language": "python",
   "name": "python3"
  },
  "language_info": {
   "codemirror_mode": {
    "name": "ipython",
    "version": 3
   },
   "file_extension": ".py",
   "mimetype": "text/x-python",
   "name": "python",
   "nbconvert_exporter": "python",
   "pygments_lexer": "ipython3",
   "version": "3.5.2"
  }
 },
 "nbformat": 4,
 "nbformat_minor": 2
}
