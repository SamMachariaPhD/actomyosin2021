{
 "cells": [
  {
   "cell_type": "code",
   "execution_count": 1,
   "metadata": {},
   "outputs": [],
   "source": [
    "import numpy as np\n",
    "import matplotlib.pyplot as plt\n",
    "import pandas as pd \n",
    "import os\n",
    "from scipy.optimize import curve_fit\n",
    "plt.style.use(\"ggplot\")\n",
    "cm = 1/2.54"
   ]
  },
  {
   "cell_type": "code",
   "execution_count": 2,
   "metadata": {},
   "outputs": [],
   "source": [
    "conf = pd.read_csv('data/Conformation_A001r1.txt', names=['t','x','y','z'], delim_whitespace=True)"
   ]
  },
  {
   "cell_type": "code",
   "execution_count": 3,
   "metadata": {},
   "outputs": [],
   "source": [
    "beads = 13\n",
    "jmp = 10"
   ]
  },
  {
   "cell_type": "code",
   "execution_count": 4,
   "metadata": {},
   "outputs": [],
   "source": [
    "tip = conf[0::beads]\n",
    "tip = tip[0::jmp]"
   ]
  },
  {
   "cell_type": "markdown",
   "metadata": {},
   "source": [
    "$|b_1| = \\sqrt{(x_2-x_1)^2 + (y_2-y_1)^2}$"
   ]
  },
  {
   "cell_type": "code",
   "execution_count": 5,
   "metadata": {},
   "outputs": [],
   "source": [
    "xdiff = np.diff(tip['x'])\n",
    "ydiff = np.diff(tip['y'])\n",
    "b = np.sqrt(xdiff**2 + ydiff**2)"
   ]
  },
  {
   "cell_type": "markdown",
   "metadata": {},
   "source": [
    "$U_{b1} = \\frac{1}{|b_1|} \\times ((x_2-x_1), (y_2-y_1))$"
   ]
  },
  {
   "cell_type": "code",
   "execution_count": 6,
   "metadata": {},
   "outputs": [
    {
     "data": {
      "text/plain": [
       "0.9372947276481186"
      ]
     },
     "execution_count": 6,
     "metadata": {},
     "output_type": "execute_result"
    }
   ],
   "source": [
    "np.dot((0.904082124117,0.427358763631),(0.99634208882,0.0854543272502))"
   ]
  },
  {
   "cell_type": "code",
   "execution_count": 7,
   "metadata": {},
   "outputs": [
    {
     "data": {
      "text/plain": [
       "0.9372947276481186"
      ]
     },
     "execution_count": 7,
     "metadata": {},
     "output_type": "execute_result"
    }
   ],
   "source": [
    "np.dot((0.99634208882,0.0854543272502),(0.904082124117,0.427358763631))"
   ]
  },
  {
   "cell_type": "code",
   "execution_count": 8,
   "metadata": {},
   "outputs": [],
   "source": [
    "ub = pd.DataFrame({'ubx':xdiff/b, 'uby':ydiff/b})"
   ]
  },
  {
   "cell_type": "markdown",
   "metadata": {},
   "source": [
    "for $\\Delta s = 1$, calculate $<cos \\Delta \\theta(1)>$: <br>\n",
    "mean of $Ub_1\\cdot Ub_{1+1} + Ub_2\\cdot Ub_{2+1} + Ub_3\\cdot Ub_{3+1} + \\cdots + Ub_{L-1}\\cdot Ub_L$ <br>\n",
    "\n",
    "for $\\Delta s = 2$, calculate $<cos \\Delta \\theta(2)>$: <br>\n",
    "mean of $Ub_1\\cdot Ub_{1+2} + Ub_2\\cdot Ub_{2+2} + Ub_3\\cdot Ub_{3+2} + \\cdots + Ub_{L-2}\\cdot Ub_L$ <br>\n",
    "\n",
    "Persistence length = plot(s,mean of Ubs)"
   ]
  },
  {
   "cell_type": "code",
   "execution_count": 9,
   "metadata": {},
   "outputs": [],
   "source": [
    "_ = []; ds = []; dsm = []; s = []; c = 0\n",
    "\n",
    "try:\n",
    "    os.remove('ds_ub_status.txt')\n",
    "except:\n",
    "    print(\"'ds_ub_status.txt' does not exist.\")\n",
    "\n",
    "for i in range(len(ub)-1):\n",
    "    print(\"Ds = %s\"%i, file=open('ds_ub_status.txt','a'))\n",
    "    for j in range(len(ub)-1):\n",
    "        try:\n",
    "            _.append(np.dot(ub.loc[j].values,ub.loc[j+i].values))\n",
    "            print(\"Ub%s.Ub%s\"%(j,j+i), file=open('ds_ub_status.txt','a'))\n",
    "        except:\n",
    "            pass #print(\"No: Ub%s.Ub%s\"%(j,j+i))\n",
    "    ds.append(_)\n",
    "    dsm.append(np.mean(_))\n",
    "    s.append(c)\n",
    "    _ = [] # empty this bucket\n",
    "    c+=1\n",
    "\n",
    "s = np.array(s)\n",
    "dsm = np.array(dsm)"
   ]
  },
  {
   "cell_type": "code",
   "execution_count": 12,
   "metadata": {},
   "outputs": [
    {
     "data": {
      "image/png": "[encoded data removed]",
      "text/plain": [
       "<Figure size 283.465x283.465 with 1 Axes>"
      ]
     },
     "metadata": {
      "needs_background": "light"
     },
     "output_type": "display_data"
    }
   ],
   "source": [
    "fig, ax = plt.subplots(1,1, figsize=(10*cm,10*cm))\n",
    "ax.plot(s,dsm, marker='o', c='r', ls='--', lw=1, markerfacecolor='lime')\n",
    "\n",
    "ax.set_xlabel(r'$\\Delta s$', fontsize=14)\n",
    "ax.set_ylabel(r'$\\langle cos(\\Delta \\theta)(s) \\rangle$', fontsize=14)\n",
    "plt.show()"
   ]
  },
  {
   "cell_type": "markdown",
   "metadata": {},
   "source": [
    "$<cos \\Delta \\theta> = exp(-\\frac{s}{2Lp})$"
   ]
  },
  {
   "cell_type": "markdown",
   "metadata": {},
   "source": [
    "$x-axis : S \\times V \\times \\Delta t$ <br>\n",
    "$y-axis : <cos \\Delta \\theta>$"
   ]
  },
  {
   "cell_type": "code",
   "execution_count": 11,
   "metadata": {},
   "outputs": [
    {
     "data": {
      "text/plain": [
       "49"
      ]
     },
     "execution_count": 11,
     "metadata": {},
     "output_type": "execute_result"
    }
   ],
   "source": [
    "dsm.shape[0]"
   ]
  },
  {
   "cell_type": "code",
   "execution_count": 12,
   "metadata": {},
   "outputs": [],
   "source": [
    "# 50% of data\n",
    "s50 = s # s[:-int(s.shape[0]*0.1)]\n",
    "dsm50 = dsm # dsm[:-int(dsm.shape[0]*.1)] "
   ]
  },
  {
   "cell_type": "code",
   "execution_count": 13,
   "metadata": {},
   "outputs": [
    {
     "data": {
      "text/plain": [
       "[<matplotlib.lines.Line2D at 0x7fd876c06470>]"
      ]
     },
     "execution_count": 13,
     "metadata": {},
     "output_type": "execute_result"
    },
    {
     "data": {
      "image/png": "[encoded data removed]",
      "text/plain": [
       "<Figure size 432x288 with 1 Axes>"
      ]
     },
     "metadata": {
      "needs_background": "light"
     },
     "output_type": "display_data"
    }
   ],
   "source": [
    "plt.plot(s50,dsm50, marker='o', c='r', ls='--', lw=1, markerfacecolor='lime')"
   ]
  },
  {
   "cell_type": "code",
   "execution_count": 14,
   "metadata": {},
   "outputs": [],
   "source": [
    "def func(s50,Lp):\n",
    "    return np.exp(-s50/(2*Lp))\n",
    "\n",
    "popt, pcov = curve_fit(func, s50, dsm50)"
   ]
  },
  {
   "cell_type": "code",
   "execution_count": 16,
   "metadata": {},
   "outputs": [
    {
     "data": {
      "image/png": "[encoded data removed]",
      "text/plain": [
       "<Figure size 283.465x283.465 with 1 Axes>"
      ]
     },
     "metadata": {
      "needs_background": "light"
     },
     "output_type": "display_data"
    }
   ],
   "source": [
    "fig, ax = plt.subplots(1,1, figsize=(10*cm,10*cm))\n",
    "\n",
    "ax.plot(s50,dsm50, marker='o', c='r', ls='--', lw=1, markerfacecolor='lime')\n",
    "ax.plot(s50, func(s50,*popt), label='Lp = %s'%np.round(popt[0],6))\n",
    "\n",
    "ax.minorticks_on()\n",
    "ax.tick_params(which='both', direction='in')\n",
    "\n",
    "ax.set_xlabel(r'$\\Delta S$', fontsize=14)\n",
    "ax.set_ylabel(r'$<cos \\Delta \\theta (S) >$', fontsize=14)\n",
    "plt.legend()\n",
    "\n",
    "#plt.savefig('fig/R1Lp.pdf', format='pdf', bbox_inches='tight')\n",
    "plt.show()"
   ]
  },
  {
   "cell_type": "code",
   "execution_count": null,
   "metadata": {},
   "outputs": [],
   "source": []
  }
 ],
 "metadata": {
  "kernelspec": {
   "display_name": "Python 3",
   "language": "python",
   "name": "python3"
  },
  "language_info": {
   "codemirror_mode": {
    "name": "ipython",
    "version": 3
   },
   "file_extension": ".py",
   "mimetype": "text/x-python",
   "name": "python",
   "nbconvert_exporter": "python",
   "pygments_lexer": "ipython3",
   "version": "3.5.2"
  }
 },
 "nbformat": 4,
 "nbformat_minor": 2
}
