{
 "cells": [
  {
   "cell_type": "code",
   "execution_count": 1,
   "metadata": {},
   "outputs": [],
   "source": [
    "import numpy as np\n",
    "import matplotlib.pyplot as plt\n",
    "import pandas as pd \n",
    "import os, glob\n",
    "from scipy.optimize import curve_fit\n",
    "plt.style.use(\"seaborn-whitegrid\")\n",
    "#plt.style.use(\"classic\")\n",
    "#plt.style.use(\"ggplot\")\n",
    "cm = 1/2.54"
   ]
  },
  {
   "cell_type": "code",
   "execution_count": 2,
   "metadata": {},
   "outputs": [],
   "source": [
    "#conff0 = glob.glob('may_data/md10/data_A0**.txt'); md = 10\n",
    "#conff0 = glob.glob('may_data/md20/data_A0**.txt'); md = 20\n",
    "#conff0 = glob.glob('may_data/md30/data_A0**.txt'); md = 30\n",
    "conff0 = glob.glob('may_data/md40/data_A0**.txt'); md = 40\n",
    "#conff0 = glob.glob('may_data/md50/data_A0**.txt'); md = 50\n",
    "conff0 = sorted(conff0)"
   ]
  },
  {
   "cell_type": "code",
   "execution_count": 3,
   "metadata": {},
   "outputs": [
    {
     "data": {
      "text/plain": [
       "['may_data/md40/data_A001.txt',\n",
       " 'may_data/md40/data_A002.txt',\n",
       " 'may_data/md40/data_A003.txt',\n",
       " 'may_data/md40/data_A004.txt',\n",
       " 'may_data/md40/data_A005.txt',\n",
       " 'may_data/md40/data_A006.txt',\n",
       " 'may_data/md40/data_A007.txt',\n",
       " 'may_data/md40/data_A008.txt',\n",
       " 'may_data/md40/data_A009.txt',\n",
       " 'may_data/md40/data_A010.txt',\n",
       " 'may_data/md40/data_A011.txt',\n",
       " 'may_data/md40/data_A012.txt',\n",
       " 'may_data/md40/data_A013.txt',\n",
       " 'may_data/md40/data_A014.txt',\n",
       " 'may_data/md40/data_A015.txt',\n",
       " 'may_data/md40/data_A016.txt',\n",
       " 'may_data/md40/data_A017.txt',\n",
       " 'may_data/md40/data_A018.txt',\n",
       " 'may_data/md40/data_A019.txt',\n",
       " 'may_data/md40/data_A020.txt',\n",
       " 'may_data/md40/data_A021.txt',\n",
       " 'may_data/md40/data_A022.txt',\n",
       " 'may_data/md40/data_A023.txt',\n",
       " 'may_data/md40/data_A024.txt',\n",
       " 'may_data/md40/data_A025.txt',\n",
       " 'may_data/md40/data_A026.txt',\n",
       " 'may_data/md40/data_A027.txt',\n",
       " 'may_data/md40/data_A028.txt',\n",
       " 'may_data/md40/data_A029.txt',\n",
       " 'may_data/md40/data_A030.txt',\n",
       " 'may_data/md40/data_A031.txt',\n",
       " 'may_data/md40/data_A032.txt',\n",
       " 'may_data/md40/data_A033.txt',\n",
       " 'may_data/md40/data_A034.txt',\n",
       " 'may_data/md40/data_A035.txt',\n",
       " 'may_data/md40/data_A036.txt',\n",
       " 'may_data/md40/data_A037.txt',\n",
       " 'may_data/md40/data_A038.txt',\n",
       " 'may_data/md40/data_A039.txt']"
      ]
     },
     "execution_count": 3,
     "metadata": {},
     "output_type": "execute_result"
    }
   ],
   "source": [
    "conff0"
   ]
  },
  {
   "cell_type": "code",
   "execution_count": 10,
   "metadata": {},
   "outputs": [
    {
     "data": {
      "text/plain": [
       "['may_data/md40/data_A031.txt',\n",
       " 'may_data/md40/data_A032.txt',\n",
       " 'may_data/md40/data_A033.txt',\n",
       " 'may_data/md40/data_A034.txt',\n",
       " 'may_data/md40/data_A035.txt',\n",
       " 'may_data/md40/data_A036.txt',\n",
       " 'may_data/md40/data_A037.txt',\n",
       " 'may_data/md40/data_A038.txt',\n",
       " 'may_data/md40/data_A039.txt']"
      ]
     },
     "execution_count": 10,
     "metadata": {},
     "output_type": "execute_result"
    }
   ],
   "source": [
    "conff0 = conff0[-9:]\n",
    "conff0"
   ]
  },
  {
   "cell_type": "code",
   "execution_count": 11,
   "metadata": {},
   "outputs": [],
   "source": [
    "beads = 0; \n",
    "\n",
    "#jmp = 1 ; dt = 'dt0'; Dt = 0.1\n",
    "#jmp = 10 ; dt = 'dt0'; Dt = 1 \n",
    "#jmp = 20 ; dt = 'dt0'; Dt = 2\n",
    "jmp = 30 ; dt = 'dt0'; Dt = 3\n",
    "v00 = 0.8\n",
    "\n",
    "v0 = 7.0; v_1 = 7.7; v1 = 7.8\n",
    "\n",
    "conf0 = [];\n",
    "xy0 = []; xy_1 = []; xy1 = [];\n",
    "xdiff0 = []; ydiff0 = []; \n",
    "\n",
    "#conff0 = conff0[0:0]\n",
    "\n",
    "for i in conff0:\n",
    "    _ = pd.read_csv(i, names=['t','x','y','z'], delim_whitespace=True)\n",
    "    #xy0_ = _[0::beads]\n",
    "    xy0.append(_)\n",
    "    _ = _[0::jmp]\n",
    "    conf0.append(_)\n",
    "    xdiff0.append(np.diff(_['x']))\n",
    "    ydiff0.append(np.diff(_['y']))\n"
   ]
  },
  {
   "cell_type": "code",
   "execution_count": 12,
   "metadata": {},
   "outputs": [
    {
     "data": {
      "text/plain": [
       "(10, 4)"
      ]
     },
     "execution_count": 12,
     "metadata": {},
     "output_type": "execute_result"
    }
   ],
   "source": [
    "conf0[0].shape"
   ]
  },
  {
   "cell_type": "code",
   "execution_count": 13,
   "metadata": {},
   "outputs": [
    {
     "data": {
      "text/plain": [
       "(9,)"
      ]
     },
     "execution_count": 13,
     "metadata": {},
     "output_type": "execute_result"
    }
   ],
   "source": [
    "xdiff0[0].shape"
   ]
  },
  {
   "cell_type": "code",
   "execution_count": 14,
   "metadata": {},
   "outputs": [
    {
     "data": {
      "image/png": "[encoded data removed]",
      "text/plain": [
       "<Figure size 850.394x283.465 with 3 Axes>"
      ]
     },
     "metadata": {
      "needs_background": "light"
     },
     "output_type": "display_data"
    }
   ],
   "source": [
    "fig, ax = plt.subplots(1,3, figsize=(30*cm, 10*cm), sharex = True, sharey = True)\n",
    "\n",
    "ax[0].plot(xy0[0]['x'], xy0[0]['y'], color='red')\n",
    "ax[0].plot(conf0[0]['x'], conf0[0]['y'], color='blue')\n",
    "ax[0].minorticks_on()\n",
    "ax[0].tick_params('both', direction='in', length=8, which='major')\n",
    "ax[0].tick_params('both', direction='in', length=4, which='minor')\n",
    "ax[0].set_xlabel('X($\\mu m$)')\n",
    "ax[0].set_ylabel('Y($\\mu m$)')\n",
    "\n",
    "ax[1].plot(xy0[1]['x'], xy0[1]['y'], color='red')\n",
    "ax[1].plot(conf0[1]['x'], conf0[1]['y'], color='blue')\n",
    "ax[1].minorticks_on()\n",
    "ax[1].tick_params('both', direction='in', length=8, which='major')\n",
    "ax[1].tick_params('both', direction='in', length=4, which='minor')\n",
    "ax[1].set_xlabel('X($\\mu m$)')\n",
    "\n",
    "ax[2].plot(xy0[2]['x'], xy0[2]['y'], color='red')\n",
    "ax[2].plot(conf0[2]['x'], conf0[2]['y'], color='blue')\n",
    "ax[2].minorticks_on()\n",
    "ax[2].tick_params('both', direction='in', length=8, which='major')\n",
    "ax[2].tick_params('both', direction='in', length=4, which='minor')\n",
    "ax[2].set_xlabel('X($\\mu m$)')\n",
    "\n",
    "#plt.savefig('fig/may/Traj5-may-md40-Dt3.pdf', format='pdf', bbox_inches='tight')\n",
    "\n",
    "plt.show()"
   ]
  },
  {
   "cell_type": "code",
   "execution_count": 15,
   "metadata": {},
   "outputs": [],
   "source": [
    "ubx0 = []; uby0 = []\n",
    "ubx_1 = []; uby_1 = []\n",
    "ubx1 = []; uby1 = []\n",
    "\n",
    "for i in range(len(xdiff0)):\n",
    "    b0 = np.sqrt(xdiff0[i]**2 + ydiff0[i]**2)\n",
    "    ubx0.append(xdiff0[i]/b0)\n",
    "    uby0.append(ydiff0[i]/b0)\n"
   ]
  },
  {
   "cell_type": "code",
   "execution_count": null,
   "metadata": {},
   "outputs": [],
   "source": []
  },
  {
   "cell_type": "code",
   "execution_count": 16,
   "metadata": {},
   "outputs": [],
   "source": [
    "ub0 = []; ub_1 = []; ub1 = []\n",
    "\n",
    "for i in range(len(ubx0)):\n",
    "    ub0.append(pd.DataFrame({'ubx':ubx0[i], 'uby':uby0[i]}))\n",
    "    "
   ]
  },
  {
   "cell_type": "code",
   "execution_count": 17,
   "metadata": {},
   "outputs": [
    {
     "data": {
      "text/plain": [
       "9"
      ]
     },
     "execution_count": 17,
     "metadata": {},
     "output_type": "execute_result"
    }
   ],
   "source": [
    "len(ub0)"
   ]
  },
  {
   "cell_type": "code",
   "execution_count": 18,
   "metadata": {},
   "outputs": [
    {
     "data": {
      "text/html": [
       "<div>\n",
       "<style scoped>\n",
       "    .dataframe tbody tr th:only-of-type {\n",
       "        vertical-align: middle;\n",
       "    }\n",
       "\n",
       "    .dataframe tbody tr th {\n",
       "        vertical-align: top;\n",
       "    }\n",
       "\n",
       "    .dataframe thead th {\n",
       "        text-align: right;\n",
       "    }\n",
       "</style>\n",
       "<table border=\"1\" class=\"dataframe\">\n",
       "  <thead>\n",
       "    <tr style=\"text-align: right;\">\n",
       "      <th></th>\n",
       "      <th>ubx</th>\n",
       "      <th>uby</th>\n",
       "    </tr>\n",
       "  </thead>\n",
       "  <tbody>\n",
       "    <tr>\n",
       "      <th>0</th>\n",
       "      <td>-0.048068</td>\n",
       "      <td>0.998844</td>\n",
       "    </tr>\n",
       "    <tr>\n",
       "      <th>1</th>\n",
       "      <td>0.015142</td>\n",
       "      <td>0.999885</td>\n",
       "    </tr>\n",
       "    <tr>\n",
       "      <th>2</th>\n",
       "      <td>0.015241</td>\n",
       "      <td>0.999884</td>\n",
       "    </tr>\n",
       "    <tr>\n",
       "      <th>3</th>\n",
       "      <td>-0.050017</td>\n",
       "      <td>0.998748</td>\n",
       "    </tr>\n",
       "    <tr>\n",
       "      <th>4</th>\n",
       "      <td>0.041567</td>\n",
       "      <td>0.999136</td>\n",
       "    </tr>\n",
       "    <tr>\n",
       "      <th>5</th>\n",
       "      <td>0.125047</td>\n",
       "      <td>0.992151</td>\n",
       "    </tr>\n",
       "    <tr>\n",
       "      <th>6</th>\n",
       "      <td>0.039132</td>\n",
       "      <td>0.999234</td>\n",
       "    </tr>\n",
       "    <tr>\n",
       "      <th>7</th>\n",
       "      <td>0.039060</td>\n",
       "      <td>0.999237</td>\n",
       "    </tr>\n",
       "    <tr>\n",
       "      <th>8</th>\n",
       "      <td>0.031666</td>\n",
       "      <td>0.999499</td>\n",
       "    </tr>\n",
       "  </tbody>\n",
       "</table>\n",
       "</div>"
      ],
      "text/plain": [
       "        ubx       uby\n",
       "0 -0.048068  0.998844\n",
       "1  0.015142  0.999885\n",
       "2  0.015241  0.999884\n",
       "3 -0.050017  0.998748\n",
       "4  0.041567  0.999136\n",
       "5  0.125047  0.992151\n",
       "6  0.039132  0.999234\n",
       "7  0.039060  0.999237\n",
       "8  0.031666  0.999499"
      ]
     },
     "execution_count": 18,
     "metadata": {},
     "output_type": "execute_result"
    }
   ],
   "source": [
    "ub0[0]"
   ]
  },
  {
   "cell_type": "code",
   "execution_count": 19,
   "metadata": {},
   "outputs": [
    {
     "data": {
      "text/plain": [
       "array([0.12504734, 0.99215078])"
      ]
     },
     "execution_count": 19,
     "metadata": {},
     "output_type": "execute_result"
    }
   ],
   "source": [
    "\n",
    "ub0[0].loc[5].values"
   ]
  },
  {
   "cell_type": "code",
   "execution_count": 20,
   "metadata": {},
   "outputs": [
    {
     "data": {
      "text/plain": [
       "array([0.03913155, 0.99923407])"
      ]
     },
     "execution_count": 20,
     "metadata": {},
     "output_type": "execute_result"
    }
   ],
   "source": [
    "ub0[0].loc[6].values"
   ]
  },
  {
   "cell_type": "code",
   "execution_count": 21,
   "metadata": {},
   "outputs": [
    {
     "data": {
      "text/plain": [
       "0.9962841520137408"
      ]
     },
     "execution_count": 21,
     "metadata": {},
     "output_type": "execute_result"
    }
   ],
   "source": [
    "np.dot(ub0[0].loc[5].values,ub0[0].loc[6].values)"
   ]
  },
  {
   "cell_type": "code",
   "execution_count": 22,
   "metadata": {},
   "outputs": [
    {
     "data": {
      "text/plain": [
       "0.1378235341684946"
      ]
     },
     "execution_count": 22,
     "metadata": {},
     "output_type": "execute_result"
    }
   ],
   "source": [
    "np.dot(-0.33799741,-0.40776506)"
   ]
  },
  {
   "cell_type": "code",
   "execution_count": 23,
   "metadata": {},
   "outputs": [
    {
     "data": {
      "text/plain": [
       "0.8593490143748352"
      ]
     },
     "execution_count": 23,
     "metadata": {},
     "output_type": "execute_result"
    }
   ],
   "source": [
    "np.dot(0.94114704, 0.91308688)"
   ]
  },
  {
   "cell_type": "code",
   "execution_count": 24,
   "metadata": {},
   "outputs": [
    {
     "data": {
      "text/plain": [
       "0.9971725485433298"
      ]
     },
     "execution_count": 24,
     "metadata": {},
     "output_type": "execute_result"
    }
   ],
   "source": [
    "(-0.33799741*-0.40776506) + (0.94114704*0.91308688)"
   ]
  },
  {
   "cell_type": "code",
   "execution_count": 25,
   "metadata": {},
   "outputs": [
    {
     "data": {
      "text/plain": [
       "10"
      ]
     },
     "execution_count": 25,
     "metadata": {},
     "output_type": "execute_result"
    }
   ],
   "source": [
    "a= [2,1]\n",
    "b= [6,-2]\n",
    "(2*6)+(1*-2)"
   ]
  },
  {
   "cell_type": "code",
   "execution_count": 26,
   "metadata": {},
   "outputs": [
    {
     "data": {
      "text/plain": [
       "10"
      ]
     },
     "execution_count": 26,
     "metadata": {},
     "output_type": "execute_result"
    }
   ],
   "source": [
    "np.dot(a,b)"
   ]
  },
  {
   "cell_type": "code",
   "execution_count": null,
   "metadata": {},
   "outputs": [],
   "source": []
  },
  {
   "cell_type": "code",
   "execution_count": 27,
   "metadata": {},
   "outputs": [],
   "source": [
    "_ = []; ds0 = []; dsm0 = []; s0 = []; c = 0; ds0_ = []; dsm_ = []; s_ = []\n",
    "\n",
    "# try:\n",
    "#     os.remove('ds_ub_status.txt')\n",
    "# except:\n",
    "#     print(\"'ds_ub_status.txt' does not exist.\")\n",
    "    \n",
    "for h in range(len(ub0)):\n",
    "    for i in range(len(ub0[h])): # -1\n",
    "#         print(\"Ds = %s\"%i, file=open('ds_ub_status.txt','a'))\n",
    "        for j in range(len(ub0[h])): # -1\n",
    "            try:\n",
    "                _.append(np.dot(ub0[h].loc[j].values,ub0[h].loc[j+i].values))\n",
    "#                 print(\"Ub%s.Ub%s\"%(j,j+i), file=open('ds_ub_status.txt','a'))\n",
    "            except:\n",
    "                pass #print(\"No: Ub%s.Ub%s\"%(j,j+i))\n",
    "        ds0_.append(_) # not necessary to save or is it?\n",
    "        dsm_.append(np.mean(_))\n",
    "        s_.append(c)\n",
    "        _ = [] # empty this bucket\n",
    "        c+=1;\n",
    "    s0.append(s_)\n",
    "    dsm0.append(dsm_)\n",
    "    ds0.append(ds0_)\n",
    "    c = 0; ds0_ = []; dsm_ = []; s_ = [] # reset stuff\n",
    "\n",
    "s0 = np.array(s0)\n",
    "#ds0 = np.array(ds0)\n",
    "dsm0 = np.array(dsm0)"
   ]
  },
  {
   "cell_type": "code",
   "execution_count": 28,
   "metadata": {},
   "outputs": [
    {
     "name": "stderr",
     "output_type": "stream",
     "text": [
      "/home/nitta/.local/lib/python3.5/site-packages/pandas/core/computation/check.py:17: UserWarning: The installed version of numexpr 2.4.3 is not supported in pandas and will be not be used\n",
      "The minimum supported version is 2.4.6\n",
      "\n",
      "  ver=ver, min_ver=_MIN_NUMEXPR_VERSION), UserWarning)\n"
     ]
    }
   ],
   "source": [
    "\n",
    "dfs0 = pd.DataFrame(s0.T)\n",
    "dfdsm0 = pd.DataFrame(dsm0.T)\n",
    "\n",
    "s0_m = dfs0.mean(axis=1)*v00*Dt\n",
    "dsm0_m = dfdsm0.mean(axis=1)\n",
    "\n",
    "#========================================================="
   ]
  },
  {
   "cell_type": "code",
   "execution_count": 29,
   "metadata": {},
   "outputs": [
    {
     "data": {
      "text/html": [
       "<div>\n",
       "<style scoped>\n",
       "    .dataframe tbody tr th:only-of-type {\n",
       "        vertical-align: middle;\n",
       "    }\n",
       "\n",
       "    .dataframe tbody tr th {\n",
       "        vertical-align: top;\n",
       "    }\n",
       "\n",
       "    .dataframe thead th {\n",
       "        text-align: right;\n",
       "    }\n",
       "</style>\n",
       "<table border=\"1\" class=\"dataframe\">\n",
       "  <thead>\n",
       "    <tr style=\"text-align: right;\">\n",
       "      <th></th>\n",
       "      <th>0</th>\n",
       "      <th>1</th>\n",
       "      <th>2</th>\n",
       "      <th>3</th>\n",
       "      <th>4</th>\n",
       "      <th>5</th>\n",
       "      <th>6</th>\n",
       "      <th>7</th>\n",
       "      <th>8</th>\n",
       "    </tr>\n",
       "  </thead>\n",
       "  <tbody>\n",
       "    <tr>\n",
       "      <th>0</th>\n",
       "      <td>0</td>\n",
       "      <td>0</td>\n",
       "      <td>0</td>\n",
       "      <td>0</td>\n",
       "      <td>0</td>\n",
       "      <td>0</td>\n",
       "      <td>0</td>\n",
       "      <td>0</td>\n",
       "      <td>0</td>\n",
       "    </tr>\n",
       "    <tr>\n",
       "      <th>1</th>\n",
       "      <td>1</td>\n",
       "      <td>1</td>\n",
       "      <td>1</td>\n",
       "      <td>1</td>\n",
       "      <td>1</td>\n",
       "      <td>1</td>\n",
       "      <td>1</td>\n",
       "      <td>1</td>\n",
       "      <td>1</td>\n",
       "    </tr>\n",
       "    <tr>\n",
       "      <th>2</th>\n",
       "      <td>2</td>\n",
       "      <td>2</td>\n",
       "      <td>2</td>\n",
       "      <td>2</td>\n",
       "      <td>2</td>\n",
       "      <td>2</td>\n",
       "      <td>2</td>\n",
       "      <td>2</td>\n",
       "      <td>2</td>\n",
       "    </tr>\n",
       "    <tr>\n",
       "      <th>3</th>\n",
       "      <td>3</td>\n",
       "      <td>3</td>\n",
       "      <td>3</td>\n",
       "      <td>3</td>\n",
       "      <td>3</td>\n",
       "      <td>3</td>\n",
       "      <td>3</td>\n",
       "      <td>3</td>\n",
       "      <td>3</td>\n",
       "    </tr>\n",
       "    <tr>\n",
       "      <th>4</th>\n",
       "      <td>4</td>\n",
       "      <td>4</td>\n",
       "      <td>4</td>\n",
       "      <td>4</td>\n",
       "      <td>4</td>\n",
       "      <td>4</td>\n",
       "      <td>4</td>\n",
       "      <td>4</td>\n",
       "      <td>4</td>\n",
       "    </tr>\n",
       "    <tr>\n",
       "      <th>5</th>\n",
       "      <td>5</td>\n",
       "      <td>5</td>\n",
       "      <td>5</td>\n",
       "      <td>5</td>\n",
       "      <td>5</td>\n",
       "      <td>5</td>\n",
       "      <td>5</td>\n",
       "      <td>5</td>\n",
       "      <td>5</td>\n",
       "    </tr>\n",
       "    <tr>\n",
       "      <th>6</th>\n",
       "      <td>6</td>\n",
       "      <td>6</td>\n",
       "      <td>6</td>\n",
       "      <td>6</td>\n",
       "      <td>6</td>\n",
       "      <td>6</td>\n",
       "      <td>6</td>\n",
       "      <td>6</td>\n",
       "      <td>6</td>\n",
       "    </tr>\n",
       "    <tr>\n",
       "      <th>7</th>\n",
       "      <td>7</td>\n",
       "      <td>7</td>\n",
       "      <td>7</td>\n",
       "      <td>7</td>\n",
       "      <td>7</td>\n",
       "      <td>7</td>\n",
       "      <td>7</td>\n",
       "      <td>7</td>\n",
       "      <td>7</td>\n",
       "    </tr>\n",
       "    <tr>\n",
       "      <th>8</th>\n",
       "      <td>8</td>\n",
       "      <td>8</td>\n",
       "      <td>8</td>\n",
       "      <td>8</td>\n",
       "      <td>8</td>\n",
       "      <td>8</td>\n",
       "      <td>8</td>\n",
       "      <td>8</td>\n",
       "      <td>8</td>\n",
       "    </tr>\n",
       "  </tbody>\n",
       "</table>\n",
       "</div>"
      ],
      "text/plain": [
       "   0  1  2  3  4  5  6  7  8\n",
       "0  0  0  0  0  0  0  0  0  0\n",
       "1  1  1  1  1  1  1  1  1  1\n",
       "2  2  2  2  2  2  2  2  2  2\n",
       "3  3  3  3  3  3  3  3  3  3\n",
       "4  4  4  4  4  4  4  4  4  4\n",
       "5  5  5  5  5  5  5  5  5  5\n",
       "6  6  6  6  6  6  6  6  6  6\n",
       "7  7  7  7  7  7  7  7  7  7\n",
       "8  8  8  8  8  8  8  8  8  8"
      ]
     },
     "execution_count": 29,
     "metadata": {},
     "output_type": "execute_result"
    }
   ],
   "source": [
    "dfs0"
   ]
  },
  {
   "cell_type": "code",
   "execution_count": 30,
   "metadata": {},
   "outputs": [
    {
     "data": {
      "text/html": [
       "<div>\n",
       "<style scoped>\n",
       "    .dataframe tbody tr th:only-of-type {\n",
       "        vertical-align: middle;\n",
       "    }\n",
       "\n",
       "    .dataframe tbody tr th {\n",
       "        vertical-align: top;\n",
       "    }\n",
       "\n",
       "    .dataframe thead th {\n",
       "        text-align: right;\n",
       "    }\n",
       "</style>\n",
       "<table border=\"1\" class=\"dataframe\">\n",
       "  <thead>\n",
       "    <tr style=\"text-align: right;\">\n",
       "      <th></th>\n",
       "      <th>0</th>\n",
       "      <th>1</th>\n",
       "      <th>2</th>\n",
       "      <th>3</th>\n",
       "      <th>4</th>\n",
       "      <th>5</th>\n",
       "      <th>6</th>\n",
       "      <th>7</th>\n",
       "      <th>8</th>\n",
       "    </tr>\n",
       "  </thead>\n",
       "  <tbody>\n",
       "    <tr>\n",
       "      <th>0</th>\n",
       "      <td>1.000000</td>\n",
       "      <td>1.000000</td>\n",
       "      <td>1.000000</td>\n",
       "      <td>1.000000</td>\n",
       "      <td>1.000000</td>\n",
       "      <td>1.000000</td>\n",
       "      <td>1.000000</td>\n",
       "      <td>1.000000</td>\n",
       "      <td>1.000000</td>\n",
       "    </tr>\n",
       "    <tr>\n",
       "      <th>1</th>\n",
       "      <td>0.998053</td>\n",
       "      <td>0.998805</td>\n",
       "      <td>0.997719</td>\n",
       "      <td>0.998418</td>\n",
       "      <td>0.998014</td>\n",
       "      <td>0.998053</td>\n",
       "      <td>0.998805</td>\n",
       "      <td>0.997719</td>\n",
       "      <td>0.998418</td>\n",
       "    </tr>\n",
       "    <tr>\n",
       "      <th>2</th>\n",
       "      <td>0.996632</td>\n",
       "      <td>0.997386</td>\n",
       "      <td>0.993137</td>\n",
       "      <td>0.997113</td>\n",
       "      <td>0.995497</td>\n",
       "      <td>0.996632</td>\n",
       "      <td>0.997386</td>\n",
       "      <td>0.993137</td>\n",
       "      <td>0.997113</td>\n",
       "    </tr>\n",
       "    <tr>\n",
       "      <th>3</th>\n",
       "      <td>0.997538</td>\n",
       "      <td>0.997515</td>\n",
       "      <td>0.984910</td>\n",
       "      <td>0.997276</td>\n",
       "      <td>0.992103</td>\n",
       "      <td>0.997538</td>\n",
       "      <td>0.997515</td>\n",
       "      <td>0.984910</td>\n",
       "      <td>0.997276</td>\n",
       "    </tr>\n",
       "    <tr>\n",
       "      <th>4</th>\n",
       "      <td>0.997122</td>\n",
       "      <td>0.998980</td>\n",
       "      <td>0.972910</td>\n",
       "      <td>0.993694</td>\n",
       "      <td>0.991942</td>\n",
       "      <td>0.997122</td>\n",
       "      <td>0.998980</td>\n",
       "      <td>0.972910</td>\n",
       "      <td>0.993694</td>\n",
       "    </tr>\n",
       "    <tr>\n",
       "      <th>5</th>\n",
       "      <td>0.995271</td>\n",
       "      <td>0.999466</td>\n",
       "      <td>0.958842</td>\n",
       "      <td>0.992014</td>\n",
       "      <td>0.996108</td>\n",
       "      <td>0.995271</td>\n",
       "      <td>0.999466</td>\n",
       "      <td>0.958842</td>\n",
       "      <td>0.992014</td>\n",
       "    </tr>\n",
       "    <tr>\n",
       "      <th>6</th>\n",
       "      <td>0.998592</td>\n",
       "      <td>0.996967</td>\n",
       "      <td>0.951671</td>\n",
       "      <td>0.991057</td>\n",
       "      <td>0.998892</td>\n",
       "      <td>0.998592</td>\n",
       "      <td>0.996967</td>\n",
       "      <td>0.951671</td>\n",
       "      <td>0.991057</td>\n",
       "    </tr>\n",
       "    <tr>\n",
       "      <th>7</th>\n",
       "      <td>0.998034</td>\n",
       "      <td>0.993572</td>\n",
       "      <td>0.947022</td>\n",
       "      <td>0.983096</td>\n",
       "      <td>0.999341</td>\n",
       "      <td>0.998034</td>\n",
       "      <td>0.993572</td>\n",
       "      <td>0.947022</td>\n",
       "      <td>0.983096</td>\n",
       "    </tr>\n",
       "    <tr>\n",
       "      <th>8</th>\n",
       "      <td>0.996821</td>\n",
       "      <td>0.994704</td>\n",
       "      <td>0.924357</td>\n",
       "      <td>0.973276</td>\n",
       "      <td>0.998335</td>\n",
       "      <td>0.996821</td>\n",
       "      <td>0.994704</td>\n",
       "      <td>0.924357</td>\n",
       "      <td>0.973276</td>\n",
       "    </tr>\n",
       "  </tbody>\n",
       "</table>\n",
       "</div>"
      ],
      "text/plain": [
       "          0         1         2         3         4         5         6  \\\n",
       "0  1.000000  1.000000  1.000000  1.000000  1.000000  1.000000  1.000000   \n",
       "1  0.998053  0.998805  0.997719  0.998418  0.998014  0.998053  0.998805   \n",
       "2  0.996632  0.997386  0.993137  0.997113  0.995497  0.996632  0.997386   \n",
       "3  0.997538  0.997515  0.984910  0.997276  0.992103  0.997538  0.997515   \n",
       "4  0.997122  0.998980  0.972910  0.993694  0.991942  0.997122  0.998980   \n",
       "5  0.995271  0.999466  0.958842  0.992014  0.996108  0.995271  0.999466   \n",
       "6  0.998592  0.996967  0.951671  0.991057  0.998892  0.998592  0.996967   \n",
       "7  0.998034  0.993572  0.947022  0.983096  0.999341  0.998034  0.993572   \n",
       "8  0.996821  0.994704  0.924357  0.973276  0.998335  0.996821  0.994704   \n",
       "\n",
       "          7         8  \n",
       "0  1.000000  1.000000  \n",
       "1  0.997719  0.998418  \n",
       "2  0.993137  0.997113  \n",
       "3  0.984910  0.997276  \n",
       "4  0.972910  0.993694  \n",
       "5  0.958842  0.992014  \n",
       "6  0.951671  0.991057  \n",
       "7  0.947022  0.983096  \n",
       "8  0.924357  0.973276  "
      ]
     },
     "execution_count": 30,
     "metadata": {},
     "output_type": "execute_result"
    }
   ],
   "source": [
    "dfdsm0"
   ]
  },
  {
   "cell_type": "code",
   "execution_count": 32,
   "metadata": {},
   "outputs": [
    {
     "data": {
      "image/png": "[encoded data removed]",
      "text/plain": [
       "<Figure size 283.465x283.465 with 1 Axes>"
      ]
     },
     "metadata": {
      "needs_background": "light"
     },
     "output_type": "display_data"
    }
   ],
   "source": [
    "fig, ax = plt.subplots(1,1, figsize=(10*cm,10*cm))\n",
    "\n",
    "dts = [0.05,0.1,0.2,0.3,0.5]; c=4\n",
    "\n",
    "# for i in range(len(s0m)):\n",
    "#     ax.plot(s0m[i],dsm0[i], marker='o', markersize=3, ls='--', lw=1, markerfacecolor='lime', label=r'$\\Delta t = %.2f sec.$'%dts[c])\n",
    "#     #c+=1\n",
    "for i in range(len(conff0)): #7\n",
    "    ax.plot(s0_m,dfdsm0[i], marker='o', markersize=3, ls='--', lw=1, color='lightblue', markerfacecolor='lime')#, label=r'$\\Delta t = %.2f sec.$'%dts[c])\n",
    "#for i in range(27,30): #7\n",
    "#    ax.plot(dfs0[i],dfdsm0[i], marker='o', markersize=3, ls='--', lw=1, color='blue', markerfacecolor='lime')#, label=r'$\\Delta t = %.2f sec.$'%dts[c])\n",
    "\n",
    "#ax.plot(dfs0[19],dfdsm0[19], marker='o', markersize=3, ls='--', lw=1, color='blue', markerfacecolor='lime')\n",
    "    \n",
    "ax.plot(s0_m,dsm0_m, marker='o', markersize=3, ls='--', lw=1, color='red', markerfacecolor='lime')\n",
    "\n",
    "#ax.minorticks_on()\n",
    "ax.tick_params('both', direction='in', top=True, right=True, length=8, which='major')\n",
    "ax.tick_params('both', direction='in', length=4, which='minor')\n",
    "\n",
    "ax.set_xlabel(r'$(S \\cdot V \\cdot \\Delta t)\\ \\mu m$', fontsize=14)\n",
    "ax.set_ylabel(r'$\\langle cos \\Delta \\theta (S) \\rangle$', fontsize=14)\n",
    "\n",
    "ax.set_title('F = 0.0 pN | MD%d | $\\Delta t = %.2f\\ sec.$'%(md,Dt), fontsize=14)\n",
    "#plt.legend()\n",
    "plt.grid(0)\n",
    "\n",
    "#plt.savefig('fig/may/LpAllT5-may-md'+str(md)+'-Dt'+str(round(Dt,2))+'.pdf', format='pdf', bbox_inches='tight')\n",
    "\n",
    "plt.show()\n"
   ]
  },
  {
   "cell_type": "code",
   "execution_count": 33,
   "metadata": {},
   "outputs": [],
   "source": [
    "x = s0_m \n",
    "y = dsm0_m \n",
    "y = np.log(y)"
   ]
  },
  {
   "cell_type": "code",
   "execution_count": 34,
   "metadata": {},
   "outputs": [],
   "source": [
    "# https://python4mpia.github.io/fitting_data/least-squares-fitting.html\n",
    "# https://www.datatechnotes.com/2020/09/curve-fitting-with-curve-fit-function-in-python.html\n",
    "# https://docs.scipy.org/doc/scipy/reference/generated/scipy.optimize.curve_fit.html#scipy.optimize.curve_fit\n",
    "def func(x,Lp):\n",
    "    return 1*(-x/(2*Lp))\n",
    "params, covs = curve_fit(func, x, y)"
   ]
  },
  {
   "cell_type": "code",
   "execution_count": 35,
   "metadata": {},
   "outputs": [
    {
     "name": "stdout",
     "output_type": "stream",
     "text": [
      "params:  457.09694753474326\n"
     ]
    }
   ],
   "source": [
    "print(\"params: \", params[0]) "
   ]
  },
  {
   "cell_type": "code",
   "execution_count": 36,
   "metadata": {},
   "outputs": [
    {
     "name": "stdout",
     "output_type": "stream",
     "text": [
      "covariance:  [534.60425026]\n"
     ]
    }
   ],
   "source": [
    "print(\"covariance: \", covs[0]) "
   ]
  },
  {
   "cell_type": "code",
   "execution_count": 37,
   "metadata": {},
   "outputs": [
    {
     "data": {
      "text/plain": [
       "array([[23.12151055]])"
      ]
     },
     "execution_count": 37,
     "metadata": {},
     "output_type": "execute_result"
    }
   ],
   "source": [
    "perr = np.sqrt(np.diag(covs[0]))\n",
    "perr"
   ]
  },
  {
   "cell_type": "code",
   "execution_count": 38,
   "metadata": {},
   "outputs": [
    {
     "data": {
      "text/plain": [
       "array([23.12151055])"
      ]
     },
     "execution_count": 38,
     "metadata": {},
     "output_type": "execute_result"
    }
   ],
   "source": [
    "np.sqrt(covs[0])"
   ]
  },
  {
   "cell_type": "code",
   "execution_count": 40,
   "metadata": {},
   "outputs": [
    {
     "data": {
      "image/png": "[encoded data removed]",
      "text/plain": [
       "<Figure size 283.465x283.465 with 1 Axes>"
      ]
     },
     "metadata": {
      "needs_background": "light"
     },
     "output_type": "display_data"
    }
   ],
   "source": [
    "fig, ax = plt.subplots(1,1, figsize=(10*cm,10*cm), sharey=True)\n",
    "\n",
    "ax.plot(x,y, marker='o', c='r', ls='--', lw=1, markerfacecolor='lime')#, label=r'$\\Delta t = 0.1 sec.$')\n",
    "ax.plot(x, func(x,*params), label=r'Lp = %.4f$\\pm$ %.4f $\\mu m$'%(params[0],perr)) # curve fit\n",
    "\n",
    "#ax.minorticks_on()\n",
    "ax.tick_params('both', direction='in', top=True, right=True, length=8, which='major')\n",
    "ax.tick_params('both', direction='in', length=4, which='minor')\n",
    "\n",
    "ax.set_xlabel(r'$(S \\cdot V \\cdot \\Delta t)\\ \\mu m$', fontsize=14)\n",
    "ax.set_ylabel(r'$log \\langle cos \\Delta \\theta (S) \\rangle$', fontsize=14)\n",
    "\n",
    "ax.set_title('F = 0.0 pN | MD%d | $\\Delta t = %.2f\\ sec.$'%(md,Dt), fontsize=14)\n",
    "\n",
    "ax.legend()\n",
    "plt.grid(0)\n",
    "\n",
    "#plt.savefig('fig/may/Lp-md'+str(md)+'-Dt'+str(round(Dt,2))+'.pdf', format='pdf', bbox_inches='tight')\n",
    "\n",
    "\n",
    "plt.show()"
   ]
  },
  {
   "cell_type": "code",
   "execution_count": 163,
   "metadata": {},
   "outputs": [
    {
     "data": {
      "text/plain": [
       "array([ 1. ,  0.5,  0. , -0.5, -1. ])"
      ]
     },
     "execution_count": 163,
     "metadata": {},
     "output_type": "execute_result"
    }
   ],
   "source": [
    "np.arange(1,-1.1,-0.5)"
   ]
  },
  {
   "cell_type": "code",
   "execution_count": 164,
   "metadata": {},
   "outputs": [
    {
     "data": {
      "text/plain": [
       "array([ 0. , -0.5, -1. , -1.5, -2. , -2.5, -3. ])"
      ]
     },
     "execution_count": 164,
     "metadata": {},
     "output_type": "execute_result"
    }
   ],
   "source": [
    "np.arange(0,-3.1,-0.5)"
   ]
  },
  {
   "cell_type": "code",
   "execution_count": 202,
   "metadata": {},
   "outputs": [
    {
     "data": {
      "text/plain": [
       "array([-1.  , -0.75, -0.5 , -0.25,  0.  ,  0.25,  0.5 ,  0.75,  1.  ])"
      ]
     },
     "execution_count": 202,
     "metadata": {},
     "output_type": "execute_result"
    }
   ],
   "source": [
    "np.arange(-1,1.1,0.25)"
   ]
  },
  {
   "cell_type": "code",
   "execution_count": 203,
   "metadata": {},
   "outputs": [
    {
     "data": {
      "text/plain": [
       "array([-3. , -2.5, -2. , -1.5, -1. , -0.5,  0. ])"
      ]
     },
     "execution_count": 203,
     "metadata": {},
     "output_type": "execute_result"
    }
   ],
   "source": [
    "np.arange(-3,0.1,0.5)"
   ]
  },
  {
   "cell_type": "code",
   "execution_count": 41,
   "metadata": {},
   "outputs": [
    {
     "data": {
      "text/plain": [
       "0     0.0\n",
       "1     2.4\n",
       "2     4.8\n",
       "3     7.2\n",
       "4     9.6\n",
       "5    12.0\n",
       "6    14.4\n",
       "7    16.8\n",
       "8    19.2\n",
       "dtype: float64"
      ]
     },
     "execution_count": 41,
     "metadata": {},
     "output_type": "execute_result"
    }
   ],
   "source": [
    "x"
   ]
  },
  {
   "cell_type": "code",
   "execution_count": 62,
   "metadata": {},
   "outputs": [],
   "source": [
    "def tenth(x):\n",
    "    dftenth = int(round(0.2*len(x),0))\n",
    "    return x[:dftenth]"
   ]
  },
  {
   "cell_type": "code",
   "execution_count": 63,
   "metadata": {},
   "outputs": [
    {
     "data": {
      "text/plain": [
       "0    0.0\n",
       "1    2.4\n",
       "dtype: float64"
      ]
     },
     "execution_count": 63,
     "metadata": {},
     "output_type": "execute_result"
    }
   ],
   "source": [
    "tenth(x)"
   ]
  },
  {
   "cell_type": "code",
   "execution_count": 64,
   "metadata": {},
   "outputs": [
    {
     "data": {
      "text/plain": [
       "0   -0.000000\n",
       "1   -0.002625\n",
       "2   -0.005251\n",
       "3   -0.007876\n",
       "4   -0.010501\n",
       "5   -0.013126\n",
       "6   -0.015752\n",
       "7   -0.018377\n",
       "8   -0.021002\n",
       "dtype: float64"
      ]
     },
     "execution_count": 64,
     "metadata": {},
     "output_type": "execute_result"
    }
   ],
   "source": [
    "y = func(x,*params)\n",
    "y"
   ]
  },
  {
   "cell_type": "code",
   "execution_count": 65,
   "metadata": {},
   "outputs": [
    {
     "data": {
      "text/plain": [
       "0   -0.000000\n",
       "1   -0.002625\n",
       "dtype: float64"
      ]
     },
     "execution_count": 65,
     "metadata": {},
     "output_type": "execute_result"
    }
   ],
   "source": [
    "tenth(y)"
   ]
  },
  {
   "cell_type": "code",
   "execution_count": 66,
   "metadata": {},
   "outputs": [],
   "source": [
    "sthx = np.array([1,2,3,4,5,65,6,67,7,3,8])"
   ]
  },
  {
   "cell_type": "code",
   "execution_count": 67,
   "metadata": {},
   "outputs": [
    {
     "data": {
      "text/plain": [
       "array([1, 2])"
      ]
     },
     "execution_count": 67,
     "metadata": {},
     "output_type": "execute_result"
    }
   ],
   "source": [
    "tenth(sthx)"
   ]
  },
  {
   "cell_type": "code",
   "execution_count": 72,
   "metadata": {},
   "outputs": [
    {
     "data": {
      "text/plain": [
       "3.0"
      ]
     },
     "execution_count": 72,
     "metadata": {},
     "output_type": "execute_result"
    }
   ],
   "source": [
    "round(2.5+0.1,0)"
   ]
  },
  {
   "cell_type": "code",
   "execution_count": null,
   "metadata": {},
   "outputs": [],
   "source": []
  }
 ],
 "metadata": {
  "kernelspec": {
   "display_name": "Python 3",
   "language": "python",
   "name": "python3"
  },
  "language_info": {
   "codemirror_mode": {
    "name": "ipython",
    "version": 3
   },
   "file_extension": ".py",
   "mimetype": "text/x-python",
   "name": "python",
   "nbconvert_exporter": "python",
   "pygments_lexer": "ipython3",
   "version": "3.5.2"
  }
 },
 "nbformat": 4,
 "nbformat_minor": 2
}
