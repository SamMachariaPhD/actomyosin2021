{
 "cells": [
  {
   "cell_type": "code",
   "execution_count": 1,
   "metadata": {},
   "outputs": [],
   "source": [
    "import numpy as np\n",
    "import matplotlib.pyplot as plt\n",
    "import pandas as pd \n",
    "import os, glob\n",
    "import seaborn as sns\n",
    "from scipy.optimize import curve_fit\n",
    "plt.style.use(\"ggplot\")\n",
    "cm = 1/2.54"
   ]
  },
  {
   "cell_type": "code",
   "execution_count": 2,
   "metadata": {},
   "outputs": [],
   "source": [
    "conff0 = glob.glob('data/ConfT5F0S**.txt')\n",
    "conff0 = sorted(conff0)\n",
    "conff_1 = glob.glob('data/ConfT5F-1S**.txt')\n",
    "conff_1 = sorted(conff_1)\n",
    "conff1 = glob.glob('data/ConfT5F+1S**.txt')\n",
    "conff1 = sorted(conff1)"
   ]
  },
  {
   "cell_type": "code",
   "execution_count": 3,
   "metadata": {},
   "outputs": [
    {
     "data": {
      "text/plain": [
       "['data/ConfT5F0S21.txt',\n",
       " 'data/ConfT5F0S22.txt',\n",
       " 'data/ConfT5F0S23.txt',\n",
       " 'data/ConfT5F0S24.txt',\n",
       " 'data/ConfT5F0S25.txt']"
      ]
     },
     "execution_count": 3,
     "metadata": {},
     "output_type": "execute_result"
    }
   ],
   "source": [
    "conff0"
   ]
  },
  {
   "cell_type": "code",
   "execution_count": 4,
   "metadata": {},
   "outputs": [
    {
     "data": {
      "text/plain": [
       "['data/ConfT5F-1S21.txt',\n",
       " 'data/ConfT5F-1S22.txt',\n",
       " 'data/ConfT5F-1S23.txt',\n",
       " 'data/ConfT5F-1S24.txt',\n",
       " 'data/ConfT5F-1S25.txt']"
      ]
     },
     "execution_count": 4,
     "metadata": {},
     "output_type": "execute_result"
    }
   ],
   "source": [
    "conff_1"
   ]
  },
  {
   "cell_type": "code",
   "execution_count": 5,
   "metadata": {},
   "outputs": [
    {
     "data": {
      "text/plain": [
       "['data/ConfT5F+1S21.txt',\n",
       " 'data/ConfT5F+1S22.txt',\n",
       " 'data/ConfT5F+1S23.txt',\n",
       " 'data/ConfT5F+1S24.txt',\n",
       " 'data/ConfT5F+1S25.txt']"
      ]
     },
     "execution_count": 5,
     "metadata": {},
     "output_type": "execute_result"
    }
   ],
   "source": [
    "conff1"
   ]
  },
  {
   "cell_type": "code",
   "execution_count": 34,
   "metadata": {},
   "outputs": [],
   "source": [
    "beads = 13; \n",
    "#jmp = 5 ; dt = 'dt05'; Dt = 0.05\n",
    "#jmp = 10 ; dt = 'dt1'; Dt = 0.1\n",
    "#jmp = 20 ; dt = 'dt2'; Dt = 0.2\n",
    "#jmp = 30 ; dt = 'dt3'; Dt = 0.3\n",
    "jmp = 50 ; dt = 'dt5'; Dt = 0.5\n",
    "\n",
    "v0 = 7.0; v_1 = 7.7; v1 = 7.8\n",
    "\n",
    "conf0 = []; conf_1 = []; conf1 = []; \n",
    "xy0 = []; xy_1 = []; xy1 = [];\n",
    "xdiff0 = []; ydiff0 = []; \n",
    "xdiff_1 = []; ydiff_1 = [];\n",
    "xdiff1 = []; ydiff1 = []; \n",
    "bf0 = []; bf_1 = []; bf1 = []\n",
    "\n",
    "for i in conff0:\n",
    "    _ = pd.read_csv(i, names=['t','x','y','z'], delim_whitespace=True)\n",
    "    xy0_ = _[0::beads]\n",
    "    xy0.append(xy0_)\n",
    "    _ = xy0_[0::jmp]\n",
    "    conf0.append(_)\n",
    "    xdiff0.append(np.diff(_['x']))\n",
    "    ydiff0.append(np.diff(_['y']))\n",
    "\n",
    "for j in conff_1:\n",
    "    _ = pd.read_csv(j, names=['t','x','y','z'], delim_whitespace=True)\n",
    "    xy_1_ = _[0::beads]\n",
    "    xy_1.append(xy_1_)\n",
    "    _ = xy_1_[0::jmp]\n",
    "    conf_1.append(_)\n",
    "    xdiff_1.append(np.diff(_['x']))\n",
    "    ydiff_1.append(np.diff(_['y']))\n",
    "    \n",
    "for j in conff1:\n",
    "    _ = pd.read_csv(j, names=['t','x','y','z'], delim_whitespace=True)\n",
    "    xy1_ = _[0::beads]\n",
    "    xy1.append(xy1_)\n",
    "    _ = xy1_[0::jmp]\n",
    "    conf1.append(_)\n",
    "    xdiff1.append(np.diff(_['x']))\n",
    "    ydiff1.append(np.diff(_['y']))\n"
   ]
  },
  {
   "cell_type": "code",
   "execution_count": 54,
   "metadata": {},
   "outputs": [
    {
     "data": {
      "text/html": [
       "<div>\n",
       "<style scoped>\n",
       "    .dataframe tbody tr th:only-of-type {\n",
       "        vertical-align: middle;\n",
       "    }\n",
       "\n",
       "    .dataframe tbody tr th {\n",
       "        vertical-align: top;\n",
       "    }\n",
       "\n",
       "    .dataframe thead th {\n",
       "        text-align: right;\n",
       "    }\n",
       "</style>\n",
       "<table border=\"1\" class=\"dataframe\">\n",
       "  <thead>\n",
       "    <tr style=\"text-align: right;\">\n",
       "      <th></th>\n",
       "      <th>t</th>\n",
       "      <th>x</th>\n",
       "      <th>y</th>\n",
       "      <th>z</th>\n",
       "    </tr>\n",
       "  </thead>\n",
       "  <tbody>\n",
       "    <tr>\n",
       "      <th>0</th>\n",
       "      <td>0</td>\n",
       "      <td>3.000000</td>\n",
       "      <td>0.000000</td>\n",
       "      <td>1.250000e-02</td>\n",
       "    </tr>\n",
       "    <tr>\n",
       "      <th>650</th>\n",
       "      <td>5000000</td>\n",
       "      <td>5.508376</td>\n",
       "      <td>2.110361</td>\n",
       "      <td>5.821544e-03</td>\n",
       "    </tr>\n",
       "    <tr>\n",
       "      <th>1300</th>\n",
       "      <td>10000000</td>\n",
       "      <td>6.006305</td>\n",
       "      <td>5.441985</td>\n",
       "      <td>2.178498e-03</td>\n",
       "    </tr>\n",
       "    <tr>\n",
       "      <th>1950</th>\n",
       "      <td>15000000</td>\n",
       "      <td>2.995958</td>\n",
       "      <td>6.676840</td>\n",
       "      <td>4.124992e-03</td>\n",
       "    </tr>\n",
       "    <tr>\n",
       "      <th>2600</th>\n",
       "      <td>20000000</td>\n",
       "      <td>0.148982</td>\n",
       "      <td>5.919592</td>\n",
       "      <td>9.975003e-03</td>\n",
       "    </tr>\n",
       "    <tr>\n",
       "      <th>3250</th>\n",
       "      <td>25000000</td>\n",
       "      <td>0.776309</td>\n",
       "      <td>2.695799</td>\n",
       "      <td>3.894213e-03</td>\n",
       "    </tr>\n",
       "    <tr>\n",
       "      <th>3900</th>\n",
       "      <td>30000000</td>\n",
       "      <td>-1.232285</td>\n",
       "      <td>0.160962</td>\n",
       "      <td>1.353294e-02</td>\n",
       "    </tr>\n",
       "    <tr>\n",
       "      <th>4550</th>\n",
       "      <td>35000000</td>\n",
       "      <td>-2.912695</td>\n",
       "      <td>-2.716135</td>\n",
       "      <td>4.389012e-07</td>\n",
       "    </tr>\n",
       "    <tr>\n",
       "      <th>5200</th>\n",
       "      <td>40000000</td>\n",
       "      <td>-4.326671</td>\n",
       "      <td>-5.793926</td>\n",
       "      <td>5.828010e-05</td>\n",
       "    </tr>\n",
       "    <tr>\n",
       "      <th>5850</th>\n",
       "      <td>45000000</td>\n",
       "      <td>-6.512297</td>\n",
       "      <td>-8.266836</td>\n",
       "      <td>2.985166e-06</td>\n",
       "    </tr>\n",
       "    <tr>\n",
       "      <th>6500</th>\n",
       "      <td>50000000</td>\n",
       "      <td>-8.848660</td>\n",
       "      <td>-10.584625</td>\n",
       "      <td>2.684252e-04</td>\n",
       "    </tr>\n",
       "  </tbody>\n",
       "</table>\n",
       "</div>"
      ],
      "text/plain": [
       "             t         x          y             z\n",
       "0            0  3.000000   0.000000  1.250000e-02\n",
       "650    5000000  5.508376   2.110361  5.821544e-03\n",
       "1300  10000000  6.006305   5.441985  2.178498e-03\n",
       "1950  15000000  2.995958   6.676840  4.124992e-03\n",
       "2600  20000000  0.148982   5.919592  9.975003e-03\n",
       "3250  25000000  0.776309   2.695799  3.894213e-03\n",
       "3900  30000000 -1.232285   0.160962  1.353294e-02\n",
       "4550  35000000 -2.912695  -2.716135  4.389012e-07\n",
       "5200  40000000 -4.326671  -5.793926  5.828010e-05\n",
       "5850  45000000 -6.512297  -8.266836  2.985166e-06\n",
       "6500  50000000 -8.848660 -10.584625  2.684252e-04"
      ]
     },
     "execution_count": 54,
     "metadata": {},
     "output_type": "execute_result"
    }
   ],
   "source": [
    "conf0[0]"
   ]
  },
  {
   "cell_type": "code",
   "execution_count": 52,
   "metadata": {},
   "outputs": [
    {
     "data": {
      "image/png": "[encoded data removed]",
      "text/plain": [
       "<Figure size 850.394x283.465 with 3 Axes>"
      ]
     },
     "metadata": {
      "needs_background": "light"
     },
     "output_type": "display_data"
    }
   ],
   "source": [
    "fig, ax = plt.subplots(1,3, figsize=(30*cm, 10*cm), sharex = True, sharey = True)\n",
    "\n",
    "ax[0].plot(xy0[0]['x'], xy0[0]['y'], color='red')\n",
    "ax[0].plot(conf0[0]['x'], conf0[0]['y'], color='blue')\n",
    "ax[0].minorticks_on()\n",
    "ax[0].tick_params('both', direction='in', length=8, which='major')\n",
    "ax[0].tick_params('both', direction='in', length=4, which='minor')\n",
    "ax[0].xlabel('X($\\mu m$)')\n",
    "ax[0].xlabel('X($\\mu m$)')\n",
    "\n",
    "ax[1].plot(xy_1[0]['x'], xy_1[0]['y'], color='red')\n",
    "ax[1].plot(conf_1[0]['x'], conf_1[0]['y'], color='blue')\n",
    "\n",
    "ax[2].plot(xy1[0]['x'], xy1[0]['y'], color='red')\n",
    "ax[2].plot(conf1[0]['x'], conf1[0]['y'], color='blue')\n",
    "\n",
    "plt.show()"
   ]
  },
  {
   "cell_type": "code",
   "execution_count": 7,
   "metadata": {},
   "outputs": [],
   "source": [
    "ubx0 = []; uby0 = []\n",
    "ubx_1 = []; uby_1 = []\n",
    "ubx1 = []; uby1 = []\n",
    "\n",
    "for i in range(len(xdiff0)):\n",
    "    b0 = np.sqrt(xdiff0[i]**2 + ydiff0[i]**2)\n",
    "    ubx0.append(xdiff0[i]/b0)\n",
    "    uby0.append(ydiff0[i]/b0)\n",
    "\n",
    "for j in range(len(xdiff_1)):\n",
    "    b_1 = np.sqrt(xdiff_1[j]**2 + ydiff_1[j]**2)\n",
    "    ubx_1.append(xdiff_1[j]/b_1)\n",
    "    uby_1.append(ydiff_1[j]/b_1)    \n",
    "    \n",
    "for j in range(len(xdiff1)):\n",
    "    b1 = np.sqrt(xdiff1[j]**2 + ydiff1[j]**2)\n",
    "    ubx1.append(xdiff1[j]/b1)\n",
    "    uby1.append(ydiff1[j]/b1)"
   ]
  },
  {
   "cell_type": "code",
   "execution_count": 8,
   "metadata": {},
   "outputs": [],
   "source": [
    "ub0 = []; ub_1 = []; ub1 = []\n",
    "\n",
    "for i in range(len(ubx0)):\n",
    "    ub0.append(pd.DataFrame({'ubx':ubx0[i], 'uby':uby0[i]}))\n",
    "    \n",
    "for j in range(len(ubx_1)):\n",
    "    ub_1.append(pd.DataFrame({'ubx':ubx_1[j], 'uby':uby_1[j]}))\n",
    "    \n",
    "for j in range(len(ubx1)):\n",
    "    ub1.append(pd.DataFrame({'ubx':ubx1[j], 'uby':uby1[j]}))"
   ]
  },
  {
   "cell_type": "code",
   "execution_count": 9,
   "metadata": {},
   "outputs": [],
   "source": [
    "_ = []; ds0 = []; dsm0 = []; s0 = []; c = 0; ds0_ = []; dsm_ = []; s_ = []\n",
    "\n",
    "# try:\n",
    "#     os.remove('ds_ub_status.txt')\n",
    "# except:\n",
    "#     print(\"'ds_ub_status.txt' does not exist.\")\n",
    "    \n",
    "for h in range(len(ub0)):\n",
    "    for i in range(len(ub0[h])-1):\n",
    "#         print(\"Ds = %s\"%i, file=open('ds_ub_status.txt','a'))\n",
    "        for j in range(len(ub0[h])-1):\n",
    "            try:\n",
    "                _.append(np.dot(ub0[h].loc[j].values,ub0[h].loc[j+i].values))\n",
    "#                 print(\"Ub%s.Ub%s\"%(j,j+i), file=open('ds_ub_status.txt','a'))\n",
    "            except:\n",
    "                pass #print(\"No: Ub%s.Ub%s\"%(j,j+i))\n",
    "        ds0_.append(_) # not necessary to save or is it?\n",
    "        dsm_.append(np.mean(_))\n",
    "        s_.append(c)\n",
    "        _ = [] # empty this bucket\n",
    "        c+=1\n",
    "    s0.append(s_)\n",
    "    dsm0.append(dsm_)\n",
    "    ds0.append(ds0_)\n",
    "    c = 0; ds0_ = []; dsm_ = []; s_ = [] # reset stuff\n",
    "\n",
    "s0 = np.array(s0)\n",
    "#ds0 = np.array(ds0)\n",
    "dsm0 = np.array(dsm0)"
   ]
  },
  {
   "cell_type": "code",
   "execution_count": 10,
   "metadata": {},
   "outputs": [],
   "source": [
    "_ = []; ds_1 = []; dsm_1 = []; s_1 = []; c = 0; ds_1_ = []; dsm_ = []; s_ = []\n",
    "\n",
    "# try:\n",
    "#     os.remove('ds_ub_status.txt')\n",
    "# except:\n",
    "#     print(\"'ds_ub_status.txt' does not exist.\")\n",
    "    \n",
    "for h in range(len(ub_1)):\n",
    "    for i in range(len(ub_1[h])-1):\n",
    "#         print(\"Ds = %s\"%i, file=open('ds_ub_status.txt','a'))\n",
    "        for j in range(len(ub_1[h])-1):\n",
    "            try:\n",
    "                _.append(np.dot(ub_1[h].loc[j].values,ub_1[h].loc[j+i].values))\n",
    "#                 print(\"Ub%s.Ub%s\"%(j,j+i), file=open('ds_ub_status.txt','a'))\n",
    "            except:\n",
    "                pass #print(\"No: Ub%s.Ub%s\"%(j,j+i))\n",
    "        ds_1_.append(_) # not necessary to save\n",
    "        dsm_.append(np.mean(_))\n",
    "        s_.append(c)\n",
    "        _ = [] # empty this bucket\n",
    "        c+=1\n",
    "    s_1.append(s_)\n",
    "    dsm_1.append(dsm_)\n",
    "    ds_1.append(ds_1_)\n",
    "    c = 0; ds_1_ = []; dsm_ = []; s_ = [] # reset stuff\n",
    "\n",
    "s_1 = np.array(s_1)\n",
    "#ds_1 = np.array(ds_1)\n",
    "dsm_1 = np.array(dsm_1)"
   ]
  },
  {
   "cell_type": "code",
   "execution_count": 11,
   "metadata": {},
   "outputs": [],
   "source": [
    "_ = []; ds1 = []; dsm1 = []; s1 = []; c = 0; ds1_ = []; dsm_ = []; s_ = []\n",
    "\n",
    "# try:\n",
    "#     os.remove('ds_ub_status.txt')\n",
    "# except:\n",
    "#     print(\"'ds_ub_status.txt' does not exist.\")\n",
    "    \n",
    "for h in range(len(ub1)):\n",
    "    for i in range(len(ub1[h])-1):\n",
    "#         print(\"Ds = %s\"%i, file=open('ds_ub_status.txt','a'))\n",
    "        for j in range(len(ub1[h])-1):\n",
    "            try:\n",
    "                _.append(np.dot(ub1[h].loc[j].values,ub1[h].loc[j+i].values))\n",
    "#                 print(\"Ub%s.Ub%s\"%(j,j+i), file=open('ds_ub_status.txt','a'))\n",
    "            except:\n",
    "                pass #print(\"No: Ub%s.Ub%s\"%(j,j+i))\n",
    "        ds1_.append(_) # not necessary to save\n",
    "        dsm_.append(np.mean(_))\n",
    "        s_.append(c)\n",
    "        _ = [] # empty this bucket\n",
    "        c+=1\n",
    "    s1.append(s_)\n",
    "    dsm1.append(dsm_)\n",
    "    ds1.append(ds1_)\n",
    "    c = 0; ds1_ = []; dsm_ = []; s_ = [] # reset stuff\n",
    "\n",
    "s1 = np.array(s1)\n",
    "#ds1 = np.array(ds1)\n",
    "dsm1 = np.array(dsm1)"
   ]
  },
  {
   "cell_type": "code",
   "execution_count": 53,
   "metadata": {},
   "outputs": [
    {
     "data": {
      "text/plain": [
       "array([[0, 1, 2, 3, 4, 5, 6, 7, 8],\n",
       "       [0, 1, 2, 3, 4, 5, 6, 7, 8],\n",
       "       [0, 1, 2, 3, 4, 5, 6, 7, 8],\n",
       "       [0, 1, 2, 3, 4, 5, 6, 7, 8],\n",
       "       [0, 1, 2, 3, 4, 5, 6, 7, 8]])"
      ]
     },
     "execution_count": 53,
     "metadata": {},
     "output_type": "execute_result"
    }
   ],
   "source": [
    "s0"
   ]
  },
  {
   "cell_type": "code",
   "execution_count": 12,
   "metadata": {},
   "outputs": [
    {
     "name": "stderr",
     "output_type": "stream",
     "text": [
      "/home/nitta/.local/lib/python3.5/site-packages/pandas/core/computation/check.py:17: UserWarning: The installed version of numexpr 2.4.3 is not supported in pandas and will be not be used\n",
      "The minimum supported version is 2.4.6\n",
      "\n",
      "  ver=ver, min_ver=_MIN_NUMEXPR_VERSION), UserWarning)\n"
     ]
    }
   ],
   "source": [
    "try:\n",
    "    os.remove('data/s0_m'+dt+'.csv')\n",
    "    os.remove('data/dsm0_m'+dt+'.csv')\n",
    "    os.remove('data/s_1_m'+dt+'.csv')\n",
    "    os.remove('data/dsm_1_m'+dt+'.csv')\n",
    "    os.remove('data/s1_m'+dt+'.csv')\n",
    "    os.remove('data/dsm1_m'+dt+'.csv')\n",
    "except:\n",
    "    print(\"'xxx.csv' does not exist.\")\n",
    "\n",
    "dfs0 = pd.DataFrame({'s00':s0[0], 's01':s0[1], 's02':s0[2], 's03':s0[3]})\n",
    "dfdsm0 = pd.DataFrame({'dsm00':dsm0[0], 'dsm01':dsm0[1], 'dsm02':dsm0[2], 'dsm03':dsm0[3]})\n",
    "\n",
    "s0_m = dfs0.mean(axis=1)*v0*Dt\n",
    "s0_m.to_csv('data/s0_m'+dt+'.csv', index=False)\n",
    "dsm0_m = dfdsm0.mean(axis=1)\n",
    "dsm0_m.to_csv('data/dsm0_m'+dt+'.csv', index=False)\n",
    "#=========================================================\n",
    "dfs_1 = pd.DataFrame({'s_10':s_1[0], 's_11':s_1[1], 's_12':s_1[2], 's_13':s_1[3]})\n",
    "dfdsm_1 = pd.DataFrame({'dsm_10':dsm_1[0], 'dsm_11':dsm_1[1], 'dsm_12':dsm_1[2], 'dsm_13':dsm_1[3]})\n",
    "\n",
    "s_1_m = dfs_1.mean(axis=1)*v_1*Dt\n",
    "s_1_m.to_csv('data/s_1_m'+dt+'.csv', index=False)\n",
    "dsm_1_m = dfdsm_1.mean(axis=1)\n",
    "dsm_1_m.to_csv('data/dsm_1_m'+dt+'.csv', index=False)\n",
    "#=========================================================\n",
    "dfs1 = pd.DataFrame({'s10':s1[0], 's11':s1[1], 's12':s1[2], 's13':s1[3]})\n",
    "dfdsm1 = pd.DataFrame({'dsm10':dsm1[0], 'dsm11':dsm1[1], 'dsm12':dsm1[2], 'dsm13':dsm1[3]})\n",
    "\n",
    "s1_m = dfs1.mean(axis=1)*v1*Dt\n",
    "s1_m.to_csv('data/s1_m'+dt+'.csv', index=False)\n",
    "dsm1_m = dfdsm1.mean(axis=1)\n",
    "dsm1_m.to_csv('data/dsm1_m'+dt+'.csv', index=False)"
   ]
  },
  {
   "cell_type": "code",
   "execution_count": 13,
   "metadata": {},
   "outputs": [],
   "source": [
    "s0_ = glob.glob('data/s0_mdt**.csv')\n",
    "s0_ = sorted(s0_)\n",
    "s_1_ = glob.glob('data/s_1_mdt**.csv')\n",
    "s_1_ = sorted(s_1_)\n",
    "s1_ = glob.glob('data/s1_mdt**.csv')\n",
    "s1_ = sorted(s1_)\n",
    "#=========================================================\n",
    "\n",
    "dsm0_ = glob.glob('data/dsm0_mdt**.csv')\n",
    "dsm0_ = sorted(dsm0_)\n",
    "dsm_1_ = glob.glob('data/dsm_1_mdt**.csv')\n",
    "dsm_1_ = sorted(dsm_1_)\n",
    "dsm1_ = glob.glob('data/dsm1_mdt**.csv')\n",
    "dsm1_ = sorted(dsm1_)"
   ]
  },
  {
   "cell_type": "code",
   "execution_count": 14,
   "metadata": {},
   "outputs": [
    {
     "data": {
      "text/plain": [
       "['data/s_1_mdt5.csv']"
      ]
     },
     "execution_count": 14,
     "metadata": {},
     "output_type": "execute_result"
    }
   ],
   "source": [
    "s_1_"
   ]
  },
  {
   "cell_type": "code",
   "execution_count": 15,
   "metadata": {},
   "outputs": [],
   "source": [
    "s0m = []; s_1m = []; s1m = []; \n",
    "dsm0 = []; dsm_1 = []; dsm1 = []\n",
    "\n",
    "for i in s0_:\n",
    "    _ = pd.read_csv(i, names=['s0m'])\n",
    "    s0m.append(_)\n",
    "\n",
    "for j in s_1_:\n",
    "    _ = pd.read_csv(j, names=['s_1m'])\n",
    "    s_1m.append(_)    \n",
    "    \n",
    "for j in s1_:\n",
    "    _ = pd.read_csv(j, names=['s1m'])\n",
    "    s1m.append(_)\n",
    "#=========================================================\n",
    "    \n",
    "for k in dsm0_:\n",
    "    _ = pd.read_csv(k, names=['dsm0'])\n",
    "    dsm0.append(_)\n",
    "\n",
    "for l in dsm_1_:\n",
    "    _ = pd.read_csv(l, names=['dsm_1'])\n",
    "    dsm_1.append(_)    \n",
    "    \n",
    "for l in dsm1_:\n",
    "    _ = pd.read_csv(l, names=['dsm1'])\n",
    "    dsm1.append(_)"
   ]
  },
  {
   "cell_type": "code",
   "execution_count": 16,
   "metadata": {},
   "outputs": [
    {
     "data": {
      "text/html": [
       "<div>\n",
       "<style scoped>\n",
       "    .dataframe tbody tr th:only-of-type {\n",
       "        vertical-align: middle;\n",
       "    }\n",
       "\n",
       "    .dataframe tbody tr th {\n",
       "        vertical-align: top;\n",
       "    }\n",
       "\n",
       "    .dataframe thead th {\n",
       "        text-align: right;\n",
       "    }\n",
       "</style>\n",
       "<table border=\"1\" class=\"dataframe\">\n",
       "  <thead>\n",
       "    <tr style=\"text-align: right;\">\n",
       "      <th></th>\n",
       "      <th>s1m</th>\n",
       "    </tr>\n",
       "  </thead>\n",
       "  <tbody>\n",
       "    <tr>\n",
       "      <th>0</th>\n",
       "      <td>0.0</td>\n",
       "    </tr>\n",
       "    <tr>\n",
       "      <th>1</th>\n",
       "      <td>3.9</td>\n",
       "    </tr>\n",
       "    <tr>\n",
       "      <th>2</th>\n",
       "      <td>7.8</td>\n",
       "    </tr>\n",
       "    <tr>\n",
       "      <th>3</th>\n",
       "      <td>11.7</td>\n",
       "    </tr>\n",
       "    <tr>\n",
       "      <th>4</th>\n",
       "      <td>15.6</td>\n",
       "    </tr>\n",
       "    <tr>\n",
       "      <th>5</th>\n",
       "      <td>19.5</td>\n",
       "    </tr>\n",
       "    <tr>\n",
       "      <th>6</th>\n",
       "      <td>23.4</td>\n",
       "    </tr>\n",
       "    <tr>\n",
       "      <th>7</th>\n",
       "      <td>27.3</td>\n",
       "    </tr>\n",
       "    <tr>\n",
       "      <th>8</th>\n",
       "      <td>31.2</td>\n",
       "    </tr>\n",
       "  </tbody>\n",
       "</table>\n",
       "</div>"
      ],
      "text/plain": [
       "    s1m\n",
       "0   0.0\n",
       "1   3.9\n",
       "2   7.8\n",
       "3  11.7\n",
       "4  15.6\n",
       "5  19.5\n",
       "6  23.4\n",
       "7  27.3\n",
       "8  31.2"
      ]
     },
     "execution_count": 16,
     "metadata": {},
     "output_type": "execute_result"
    }
   ],
   "source": [
    "s1m[0]"
   ]
  },
  {
   "cell_type": "code",
   "execution_count": 17,
   "metadata": {},
   "outputs": [
    {
     "data": {
      "image/png": "[encoded data removed]",
      "text/plain": [
       "<Figure size 283.465x283.465 with 1 Axes>"
      ]
     },
     "metadata": {
      "needs_background": "light"
     },
     "output_type": "display_data"
    }
   ],
   "source": [
    "fig, ax = plt.subplots(1,1, figsize=(10*cm,10*cm))\n",
    "\n",
    "dts = [0.05,0.1,0.2,0.3,0.5]; c=4\n",
    "\n",
    "# for i in range(len(s0m)):\n",
    "#     ax.plot(s0m[i],dsm0[i], marker='o', markersize=3, ls='--', lw=1, markerfacecolor='lime', label=r'$\\Delta t = %.2f sec.$'%dts[c])\n",
    "#     #c+=1\n",
    "\n",
    "ax.plot(s0m[0],dsm0[0], marker='o', markersize=3, ls='--', lw=1, color='blue', markerfacecolor='lime')#, label=r'$\\Delta t = %.2f sec.$'%dts[c])\n",
    "ax.plot(s_1m[0],dsm_1[0], marker='o', markersize=3, ls='--', lw=1, color='black', markerfacecolor='lime')\n",
    "ax.plot(s1m[0],dsm1[0], marker='o', markersize=3, ls='--', lw=1, color='red', markerfacecolor='lime')\n",
    "\n",
    "ax.minorticks_on()\n",
    "ax.tick_params('both', direction='in', length=8, which='major')\n",
    "ax.tick_params('both', direction='in', length=4, which='minor')\n",
    "\n",
    "ax.set_xlabel(r'$S \\cdot V \\cdot \\Delta t$', fontsize=14)\n",
    "ax.set_ylabel(r'$\\langle cos \\Delta \\theta (S) \\rangle$', fontsize=14)\n",
    "ax.set_title('F = 0.0(b) | -1.0(k) | 1.0(r) pN', fontsize=14)\n",
    "#plt.legend()\n",
    "\n",
    "#plt.savefig('fig/LpAllT5.pdf', format='pdf', bbox_inches='tight')\n",
    "plt.show()"
   ]
  },
  {
   "cell_type": "code",
   "execution_count": 18,
   "metadata": {},
   "outputs": [],
   "source": [
    "x0_ =  s0m[0]['s0m']#[:-3]; \n",
    "y0_ =  dsm0[0]['dsm0']#[:-3]\n",
    "\n",
    "def func0(x0_,Lp0):\n",
    "    return np.exp(-x0_/(2*Lp0))\n",
    "\n",
    "popt0, pcov0 = curve_fit(func0, x0_, y0_)\n",
    "#=========================================================\n",
    "\n",
    "x_1_ =  s_1m[0]['s_1m']#[:-3]; \n",
    "y_1_ =  dsm_1[0]['dsm_1']#[:-3]\n",
    "\n",
    "def func_1(x_1_,Lp_1):\n",
    "    return np.exp(-x_1_/(2*Lp_1))\n",
    "\n",
    "popt_1, pcov_1 = curve_fit(func_1, x_1_, y_1_)\n",
    "#=========================================================\n",
    "\n",
    "x1_ =  s1m[0]['s1m']#[:-3]; \n",
    "y1_ =  dsm1[0]['dsm1']#[:-3]\n",
    "\n",
    "def func1(x1_,Lp1):\n",
    "    return np.exp(-x1_/(2*Lp1))\n",
    "\n",
    "popt1, pcov1 = curve_fit(func1, x1_, y1_)"
   ]
  },
  {
   "cell_type": "code",
   "execution_count": 19,
   "metadata": {},
   "outputs": [
    {
     "data": {
      "image/png": "[encoded data removed]",
      "text/plain": [
       "<Figure size 283.465x283.465 with 1 Axes>"
      ]
     },
     "metadata": {
      "needs_background": "light"
     },
     "output_type": "display_data"
    }
   ],
   "source": [
    "fig, ax = plt.subplots(1,1, figsize=(10*cm,10*cm))\n",
    "\n",
    "ax.plot(x0_,y0_, marker='o', c='r', ls='--', lw=1, markerfacecolor='lime')#, label=r'$\\Delta t = 0.1 sec.$')\n",
    "ax.plot(x0_, func0(x0_,*popt0), label='Lp = %s'%np.round(popt0[0],6))\n",
    "\n",
    "ax.minorticks_on()\n",
    "ax.tick_params('both', direction='in', length=8, which='major')\n",
    "ax.tick_params('both', direction='in', length=4, which='minor')\n",
    "\n",
    "ax.set_xlabel(r'$S \\cdot V \\cdot \\Delta t$', fontsize=14)\n",
    "ax.set_ylabel(r'$\\langle cos \\Delta \\theta (S) \\rangle$', fontsize=14)\n",
    "ax.set_title('F = 0.0 pN', fontsize=14)\n",
    "plt.legend()\n",
    "\n",
    "#plt.savefig('fig/LpT5F0.pdf', format='pdf', bbox_inches='tight')\n",
    "plt.show()"
   ]
  },
  {
   "cell_type": "code",
   "execution_count": 20,
   "metadata": {},
   "outputs": [
    {
     "data": {
      "image/png": "[encoded data removed]",
      "text/plain": [
       "<Figure size 283.465x283.465 with 1 Axes>"
      ]
     },
     "metadata": {
      "needs_background": "light"
     },
     "output_type": "display_data"
    }
   ],
   "source": [
    "fig, ax = plt.subplots(1,1, figsize=(10*cm,10*cm))\n",
    "\n",
    "ax.plot(x_1_,y_1_, marker='o', c='r', ls='--', lw=1, markerfacecolor='lime')#, label=r'$\\Delta t = 0.1 sec.$')\n",
    "ax.plot(x_1_, func_1(x_1_,*popt_1), label='Lp = %s'%np.round(popt_1[0],6))\n",
    "\n",
    "ax.minorticks_on()\n",
    "ax.tick_params('both', direction='in', length=8, which='major')\n",
    "ax.tick_params('both', direction='in', length=4, which='minor')\n",
    "\n",
    "ax.set_xlabel(r'$S \\cdot V \\cdot \\Delta t$', fontsize=14)\n",
    "ax.set_ylabel(r'$\\langle cos \\Delta \\theta (S) \\rangle$', fontsize=14)\n",
    "ax.set_title('F = -1.0 pN', fontsize=14)\n",
    "plt.legend()\n",
    "\n",
    "#plt.savefig('fig/LpT5F-1.pdf', format='pdf', bbox_inches='tight')\n",
    "plt.show()"
   ]
  },
  {
   "cell_type": "code",
   "execution_count": 21,
   "metadata": {},
   "outputs": [
    {
     "data": {
      "image/png": "[encoded data removed]",
      "text/plain": [
       "<Figure size 283.465x283.465 with 1 Axes>"
      ]
     },
     "metadata": {
      "needs_background": "light"
     },
     "output_type": "display_data"
    }
   ],
   "source": [
    "fig, ax = plt.subplots(1,1, figsize=(10*cm,10*cm))\n",
    "\n",
    "ax.plot(x1_,y1_, marker='o', c='r', ls='--', lw=1, markerfacecolor='lime')#, label=r'$\\Delta t = 0.1 sec.$')\n",
    "ax.plot(x1_, func1(x1_,*popt1), label='Lp = %s'%np.round(popt1[0],6))\n",
    "\n",
    "ax.minorticks_on()\n",
    "ax.tick_params('both', direction='in', length=8, which='major')\n",
    "ax.tick_params('both', direction='in', length=4, which='minor')\n",
    "\n",
    "ax.set_xlabel(r'$S \\cdot V \\cdot \\Delta t$', fontsize=14)\n",
    "ax.set_ylabel(r'$\\langle cos \\Delta \\theta (S) \\rangle$', fontsize=14)\n",
    "ax.set_title('F = 1.0 pN', fontsize=14)\n",
    "plt.legend()\n",
    "\n",
    "#plt.savefig('fig/LpT5F1.pdf', format='pdf', bbox_inches='tight')\n",
    "plt.show()"
   ]
  },
  {
   "cell_type": "code",
   "execution_count": null,
   "metadata": {},
   "outputs": [],
   "source": []
  },
  {
   "cell_type": "code",
   "execution_count": 22,
   "metadata": {},
   "outputs": [
    {
     "name": "stderr",
     "output_type": "stream",
     "text": [
      "/home/nitta/.local/lib/python3.5/site-packages/ipykernel_launcher.py:4: RuntimeWarning: invalid value encountered in log\n",
      "  after removing the cwd from sys.path.\n"
     ]
    }
   ],
   "source": [
    "#i = 3; \n",
    "x = s0[0] #m[i]['s0m']\n",
    "y = dsm0[0] #[i]['dsm0']\n",
    "y = np.log(y)\n",
    "# y = y[~np.isnan(y)]\n",
    "# x = x[:y.shape[0]]\n",
    "x = x[:-3]\n",
    "y = y['dsm0'][:-3]"
   ]
  },
  {
   "cell_type": "code",
   "execution_count": 23,
   "metadata": {},
   "outputs": [
    {
     "data": {
      "text/plain": [
       "array([0, 1, 2, 3, 4, 5])"
      ]
     },
     "execution_count": 23,
     "metadata": {},
     "output_type": "execute_result"
    }
   ],
   "source": [
    "x"
   ]
  },
  {
   "cell_type": "code",
   "execution_count": 24,
   "metadata": {},
   "outputs": [],
   "source": [
    "def func(x,Lp):\n",
    "    return 1*(-x/(2*Lp))\n",
    "popt, pcov = curve_fit(func, x, y)\n"
   ]
  },
  {
   "cell_type": "code",
   "execution_count": 25,
   "metadata": {},
   "outputs": [
    {
     "data": {
      "image/png": "[encoded data removed]",
      "text/plain": [
       "<Figure size 283.465x283.465 with 1 Axes>"
      ]
     },
     "metadata": {
      "needs_background": "light"
     },
     "output_type": "display_data"
    }
   ],
   "source": [
    "fig, ax = plt.subplots(1,1, figsize=(10*cm,10*cm), sharey=True)\n",
    "\n",
    "ax.plot(x,y, marker='o', c='r', ls='--', lw=1, markerfacecolor='lime')#, label=r'$\\Delta t = 0.1 sec.$')\n",
    "ax.plot(x, func(x,*popt), label='Lp = %s'%np.round(popt[0],6))\n",
    "\n",
    "ax.minorticks_on()\n",
    "ax.tick_params('both', direction='in', length=8, which='major')\n",
    "ax.tick_params('both', direction='in', length=4, which='minor')\n",
    "\n",
    "ax.set_xlabel(r'$S \\cdot V \\cdot \\Delta t$', fontsize=14)\n",
    "ax.set_ylabel(r'$log \\langle cos \\Delta \\theta (S) \\rangle$', fontsize=14)\n",
    "ax.set_title('F = 0.0 pN', fontsize=14)\n",
    "ax.legend()\n",
    "\n",
    "#plt.savefig('fig/LpT5F0log.pdf', format='pdf', bbox_inches='tight')\n",
    "plt.show()"
   ]
  },
  {
   "cell_type": "code",
   "execution_count": 26,
   "metadata": {},
   "outputs": [],
   "source": [
    "#i = 3; \n",
    "x = s_1[0] #m[i]['s0m']\n",
    "y = dsm_1[0] #[i]['dsm0']\n",
    "y = np.log(y)\n",
    "# y = y[~np.isnan(y)]\n",
    "# x = x[:y.shape[0]]\n",
    "x = x#[:-3]\n",
    "y = y['dsm_1']#[:-3]"
   ]
  },
  {
   "cell_type": "code",
   "execution_count": 27,
   "metadata": {},
   "outputs": [
    {
     "data": {
      "text/plain": [
       "0    0.000000\n",
       "1   -0.027130\n",
       "2   -0.037223\n",
       "3   -0.040216\n",
       "4   -0.049257\n",
       "5   -0.048860\n",
       "6   -0.060047\n",
       "7   -0.064578\n",
       "8   -0.123897\n",
       "Name: dsm_1, dtype: float64"
      ]
     },
     "execution_count": 27,
     "metadata": {},
     "output_type": "execute_result"
    }
   ],
   "source": [
    "y"
   ]
  },
  {
   "cell_type": "code",
   "execution_count": 28,
   "metadata": {},
   "outputs": [],
   "source": [
    "def func(x,Lp):\n",
    "    return 1*(-x/(2*Lp))\n",
    "popt, pcov = curve_fit(func, x, y)\n"
   ]
  },
  {
   "cell_type": "code",
   "execution_count": 29,
   "metadata": {},
   "outputs": [
    {
     "data": {
      "image/png": "[encoded data removed]",
      "text/plain": [
       "<Figure size 283.465x283.465 with 1 Axes>"
      ]
     },
     "metadata": {
      "needs_background": "light"
     },
     "output_type": "display_data"
    }
   ],
   "source": [
    "fig, ax = plt.subplots(1,1, figsize=(10*cm,10*cm), sharey=True)\n",
    "\n",
    "ax.plot(x,y, marker='o', c='r', ls='--', lw=1, markerfacecolor='lime')#, label=r'$\\Delta t = 0.1 sec.$')\n",
    "ax.plot(x, func(x,*popt), label='Lp = %s'%np.round(popt[0],6))\n",
    "\n",
    "ax.minorticks_on()\n",
    "ax.tick_params('both', direction='in', length=8, which='major')\n",
    "ax.tick_params('both', direction='in', length=4, which='minor')\n",
    "\n",
    "ax.set_xlabel(r'$S \\cdot V \\cdot \\Delta t$', fontsize=14)\n",
    "ax.set_ylabel(r'$log \\langle cos \\Delta \\theta (S) \\rangle$', fontsize=14)\n",
    "ax.set_title('F = -1.0 pN', fontsize=14)\n",
    "ax.legend()\n",
    "\n",
    "#plt.savefig('fig/LpT5F-1log.pdf', format='pdf', bbox_inches='tight')\n",
    "plt.show()"
   ]
  },
  {
   "cell_type": "code",
   "execution_count": 30,
   "metadata": {},
   "outputs": [],
   "source": [
    "#i = 3; \n",
    "x = s1[0] #m[i]['s0m']\n",
    "y = dsm1[0] #[i]['dsm0']\n",
    "y = np.log(y)\n",
    "# y = y[~np.isnan(y)]\n",
    "# x = x[:y.shape[0]]\n",
    "x = x#[:-3]\n",
    "y = y['dsm1']#[:-3]"
   ]
  },
  {
   "cell_type": "code",
   "execution_count": 31,
   "metadata": {},
   "outputs": [
    {
     "data": {
      "text/plain": [
       "0    0.000000\n",
       "1   -0.018231\n",
       "2   -0.028172\n",
       "3   -0.025131\n",
       "4   -0.026395\n",
       "5   -0.024342\n",
       "6   -0.018713\n",
       "7   -0.013501\n",
       "8   -0.013391\n",
       "Name: dsm1, dtype: float64"
      ]
     },
     "execution_count": 31,
     "metadata": {},
     "output_type": "execute_result"
    }
   ],
   "source": [
    "y"
   ]
  },
  {
   "cell_type": "code",
   "execution_count": 32,
   "metadata": {},
   "outputs": [
    {
     "data": {
      "image/png": "[encoded data removed]",
      "text/plain": [
       "<Figure size 283.465x283.465 with 1 Axes>"
      ]
     },
     "metadata": {
      "needs_background": "light"
     },
     "output_type": "display_data"
    }
   ],
   "source": [
    "fig, ax = plt.subplots(1,1, figsize=(10*cm,10*cm), sharey=True)\n",
    "\n",
    "ax.plot(x,y, marker='o', c='r', ls='--', lw=1, markerfacecolor='lime')#, label=r'$\\Delta t = 0.1 sec.$')\n",
    "ax.plot(x, func(x,*popt), label='Lp = %s'%np.round(popt[0],6))\n",
    "\n",
    "ax.minorticks_on()\n",
    "ax.tick_params('both', direction='in', length=8, which='major')\n",
    "ax.tick_params('both', direction='in', length=4, which='minor')\n",
    "\n",
    "ax.set_xlabel(r'$S \\cdot V \\cdot \\Delta t$', fontsize=14)\n",
    "ax.set_ylabel(r'$log \\langle cos \\Delta \\theta (S) \\rangle$', fontsize=14)\n",
    "ax.set_title('F = +1.0 pN', fontsize=14)\n",
    "ax.legend()\n",
    "\n",
    "#plt.savefig('fig/LpT5F1log.pdf', format='pdf', bbox_inches='tight')\n",
    "plt.show()"
   ]
  },
  {
   "cell_type": "code",
   "execution_count": null,
   "metadata": {},
   "outputs": [],
   "source": []
  }
 ],
 "metadata": {
  "kernelspec": {
   "display_name": "Python 3",
   "language": "python",
   "name": "python3"
  },
  "language_info": {
   "codemirror_mode": {
    "name": "ipython",
    "version": 3
   },
   "file_extension": ".py",
   "mimetype": "text/x-python",
   "name": "python",
   "nbconvert_exporter": "python",
   "pygments_lexer": "ipython3",
   "version": "3.5.2"
  }
 },
 "nbformat": 4,
 "nbformat_minor": 2
}
