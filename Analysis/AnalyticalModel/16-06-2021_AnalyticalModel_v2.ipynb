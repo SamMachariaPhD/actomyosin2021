{
 "cells": [
  {
   "cell_type": "code",
   "execution_count": 1,
   "metadata": {},
   "outputs": [],
   "source": [
    "# Translate \"PlotAnalyticalModel_v2.m\", Sam.\n",
    "import numpy as np\n",
    "import pandas as pd \n",
    "import matplotlib.pyplot as plt\n",
    "plt.style.use(\"ggplot\")\n",
    "cm = 1/2.54"
   ]
  },
  {
   "cell_type": "markdown",
   "metadata": {},
   "source": [
    "$\\tau_{2min} = \\frac{f_{rupt}}{k\\times V_{max}}$"
   ]
  },
  {
   "cell_type": "markdown",
   "metadata": {},
   "source": [
    "$\\tau = \\frac{\\tau_1}{\\tau_{2min}}$ <br>"
   ]
  },
  {
   "cell_type": "markdown",
   "metadata": {},
   "source": [
    "$f = \\frac{f_{rupt}}{f_{stall}}$ <br>"
   ]
  },
  {
   "cell_type": "markdown",
   "metadata": {},
   "source": [
    "$\\gamma = \\frac{1}{R_{temp}} - 1$"
   ]
  },
  {
   "cell_type": "markdown",
   "metadata": {},
   "source": [
    "$\\gamma_{crit} = (1 + \\tau)^2\\times \\frac{f\\times \\tau}{2}$"
   ]
  },
  {
   "cell_type": "markdown",
   "metadata": {},
   "source": [
    "$R_{crit} = \\frac{1}{\\gamma_{crit} + 1}$"
   ]
  },
  {
   "cell_type": "markdown",
   "metadata": {},
   "source": [
    "$V_+ = \\frac{1}{2}\\times \\frac{V_{max}}{\\tau}\\times (\\tau - 1 + \\sqrt{(1 - \\tau)^2 + 4 \\tau - 2 f \\tau \\gamma})$"
   ]
  },
  {
   "cell_type": "markdown",
   "metadata": {},
   "source": [
    "$V_- = \\frac{1}{2}\\times \\frac{V_{max}}{\\tau}\\times (\\tau - 1 - \\sqrt{(1 - \\tau)^2 + 4 \\tau - 2 f \\tau \\gamma})$"
   ]
  },
  {
   "cell_type": "code",
   "execution_count": 2,
   "metadata": {},
   "outputs": [],
   "source": [
    "Vmax = 7;           # Maximum gliding speed (um/s)\n",
    "k = 300.0;          # Spring constant (pN/um)\n",
    "fstall = 0.4;       # Stall force (pN)\n",
    "#frupt = 9.2;        # Rupture force (pN)\n",
    "\n",
    "ActiveMotorRatio = []; Vplus = []; Vminus = []\n",
    "R = []; Vp = []; Vm = []\n",
    "\n",
    "for frupt in [2.0,4.0,6.0,8.0,9.2]:\n",
    "    Tau1 = 0.025 # Binding period (s). 1/k_a See Ishigure & Nitta 2015 IEEE Trans. Nanobiosci.\n",
    "    Tau2min = frupt/k/Vmax\n",
    "\n",
    "    ActiveMotorRatioTemp = np.arange(0.01,1,0.01) # 0.99\n",
    "\n",
    "    Tau = Tau1/Tau2min\n",
    "    f = frupt/fstall\n",
    "    Gamma = 1.0/ActiveMotorRatioTemp - 1.0\n",
    "\n",
    "    GammaCritical = ((1.0 + Tau)**2)/2.0/f/Tau\n",
    "    ActiveMotorRatioCritical = 1.0/(GammaCritical + 1.0)\n",
    "\n",
    "    #===================================================\n",
    "\n",
    "    for I in range(len(Gamma)):\n",
    "        if ActiveMotorRatioTemp[I] > ActiveMotorRatioCritical:\n",
    "            ActiveMotorRatio.append( ActiveMotorRatioTemp[I] )\n",
    "            Vplus.append( 0.5*Vmax/Tau*(Tau - 1.0 + np.sqrt((1.0 - Tau)**2 + 4.0*Tau - 2.0*f*Tau*Gamma[I])) )\n",
    "            Vminus.append( 0.5*Vmax/Tau*(Tau - 1.0 - np.sqrt((1.0 - Tau)**2 + 4.0*Tau - 2.0*f*Tau*Gamma[I])) )\n",
    "        elif ActiveMotorRatioTemp[I] < ActiveMotorRatioCritical:\n",
    "            ActiveMotorRatio.append( ActiveMotorRatioTemp[I] )\n",
    "            Vplus.append(0)\n",
    "    R.append(ActiveMotorRatio)\n",
    "    Vp.append(Vplus)\n",
    "    Vm.append(Vminus)\n",
    "    ActiveMotorRatio = []; Vplus = []; Vminus = []"
   ]
  },
  {
   "cell_type": "code",
   "execution_count": 3,
   "metadata": {},
   "outputs": [
    {
     "data": {
      "image/png": "[encoded data removed]",
      "text/plain": [
       "<Figure size 283.465x283.465 with 1 Axes>"
      ]
     },
     "metadata": {
      "needs_background": "light"
     },
     "output_type": "display_data"
    }
   ],
   "source": [
    "fig, ax = plt.subplots(1,1, figsize=(10*cm,10*cm))\n",
    "\n",
    "ax.plot(R[4],Vp[4],marker = 'o', ls = '--', lw=1, markersize = 5, color='brown', markerfacecolor='salmon') #  label='$f_{rupt}$ = %.1f pN'%-9.2,ActiveMotorRatio,Vminus,'b.',ActiveMotorRatioCritical,0.0,'ro')\n",
    "\n",
    "# ax.axhline(y=0, color='k', lw=1)\n",
    "# ax.axvline(x=0, color='k', lw=1)\n",
    "\n",
    "ax.set_xticks(np.arange(0,1.1,0.2))\n",
    "ax.set_yticks(np.arange(0,9,2))\n",
    "ax.set_xlabel('$r_{substrate}$', fontsize=14)\n",
    "ax.set_ylabel('$Speed\\ (\\mu m/s)$', fontsize=14)\n",
    "\n",
    "ax.minorticks_on()\n",
    "ax.tick_params(direction='in', length=8, which = 'major')\n",
    "ax.tick_params(direction='in', length=4, which = 'minor')\n",
    "\n",
    "#ax.legend(loc='lower left')\n",
    "\n",
    "#plt.savefig('fig/gldn_spd.pdf', format='pdf', bbox_inches='tight')\n",
    "#plt.savefig('fig/gldn_spd.png', format='png', dpi=700, bbox_inches='tight')\n",
    "\n",
    "# plt.savefig('fig/gldn_spd.pdf', format='pdf', bbox_inches='tight')\n",
    "# plt.savefig('fig/gldn_spd.svg', format='svg', bbox_inches='tight')\n",
    "\n",
    "plt.show()"
   ]
  },
  {
   "cell_type": "code",
   "execution_count": 4,
   "metadata": {},
   "outputs": [
    {
     "data": {
      "text/plain": [
       "0"
      ]
     },
     "execution_count": 4,
     "metadata": {},
     "output_type": "execute_result"
    }
   ],
   "source": [
    "import subprocess\n",
    "subprocess.call('inkscape fig/gldn_spd.svg -M fig/gldn_spd.emf', shell=True)"
   ]
  },
  {
   "cell_type": "code",
   "execution_count": 5,
   "metadata": {},
   "outputs": [],
   "source": [
    "act_dta = pd.DataFrame({'r':R[4],'v':Vp[4]})\n",
    "act_dta.to_csv('act_data.csv', index = False)"
   ]
  },
  {
   "cell_type": "code",
   "execution_count": 6,
   "metadata": {},
   "outputs": [
    {
     "data": {
      "image/png": "[encoded data removed]",
      "text/plain": [
       "<Figure size 283.465x283.465 with 1 Axes>"
      ]
     },
     "metadata": {
      "needs_background": "light"
     },
     "output_type": "display_data"
    }
   ],
   "source": [
    "fig, ax = plt.subplots(1,1, figsize=(10*cm,10*cm))\n",
    "\n",
    "ax.plot(R[0],Vp[0], 'y-', label='$f_{rupt}$ = %.1f pN'%-2.0)\n",
    "ax.plot(R[1],Vp[1], 'b-', label='$f_{rupt}$ = %.1f pN'%-4.0)\n",
    "ax.plot(R[2],Vp[2], 'g-', label='$f_{rupt}$ = %.1f pN'%-6.0)\n",
    "ax.plot(R[3],Vp[3], 'r-', label='$f_{rupt}$ = %.1f pN'%-8.0)\n",
    "\n",
    "ax.set_xticks(np.arange(0,1.1,0.2))\n",
    "ax.set_yticks(np.arange(0,9,2))\n",
    "ax.set_xlabel('$R$', fontsize=14)\n",
    "ax.set_ylabel('$v\\ (\\mu m/s)$', fontsize=14)\n",
    "ax.tick_params(which='both', direction='in', top=True, right=True)\n",
    "ax.minorticks_on()\n",
    "ax.legend()\n",
    "\n",
    "#plt.savefig('fig/gldn_spds.pdf', format='pdf', bbox_inches='tight')\n",
    "#plt.savefig('fig/gldn_spds.png', format='png', dpi=700, bbox_inches='tight')\n",
    "plt.show()"
   ]
  },
  {
   "cell_type": "code",
   "execution_count": null,
   "metadata": {},
   "outputs": [],
   "source": []
  }
 ],
 "metadata": {
  "kernelspec": {
   "display_name": "Python 3",
   "language": "python",
   "name": "python3"
  },
  "language_info": {
   "codemirror_mode": {
    "name": "ipython",
    "version": 3
   },
   "file_extension": ".py",
   "mimetype": "text/x-python",
   "name": "python",
   "nbconvert_exporter": "python",
   "pygments_lexer": "ipython3",
   "version": "3.5.2"
  }
 },
 "nbformat": 4,
 "nbformat_minor": 2
}
