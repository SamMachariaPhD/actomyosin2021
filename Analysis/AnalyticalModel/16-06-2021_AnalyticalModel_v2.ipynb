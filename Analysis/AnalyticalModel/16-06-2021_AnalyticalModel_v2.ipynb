{
 "cells": [
  {
   "cell_type": "code",
   "execution_count": 1,
   "metadata": {},
   "outputs": [],
   "source": [
    "# Translate \"PlotAnalyticalModel_v2.m\", Sam.\n",
    "import numpy as np\n",
    "import pandas as pd \n",
    "import matplotlib.pyplot as plt\n",
    "plt.style.use(\"ggplot\")\n",
    "cm = 1/2.54"
   ]
  },
  {
   "cell_type": "code",
   "execution_count": 21,
   "metadata": {},
   "outputs": [],
   "source": [
    "Vmax = 7;           # Maximum gliding speed (um/s)\n",
    "k = 300.0;          # Spring constant (pN/um)\n",
    "fstall = 0.4;       # Stall force (pN)\n",
    "frupt = 9.2;        # Rupture force (pN)\n",
    "\n",
    "Tau1 = 0.025;               # Binding period (s). 1/k_a See Ishigure & Nitta 2015 IEEE Trans. Nanobiosci.\n",
    "Tau2min = frupt/k/Vmax;\n",
    "\n",
    "ActiveMotorRatioTemp = np.arange(0.01,1,0.01); # 0.99\n",
    "\n",
    "Tau = Tau1/Tau2min;\n",
    "f = frupt/fstall;\n",
    "Gamma = 1.0/ActiveMotorRatioTemp - 1.0;\n",
    "\n",
    "GammaCritical = ((1.0 + Tau)**2)/2.0/f/Tau\n",
    "ActiveMotorRatioCritical = 1.0/(GammaCritical + 1.0)"
   ]
  },
  {
   "cell_type": "code",
   "execution_count": 46,
   "metadata": {},
   "outputs": [
    {
     "data": {
      "text/plain": [
       "0.853721187678411"
      ]
     },
     "execution_count": 46,
     "metadata": {},
     "output_type": "execute_result"
    }
   ],
   "source": [
    " ActiveMotorRatioCritical"
   ]
  },
  {
   "cell_type": "code",
   "execution_count": 58,
   "metadata": {},
   "outputs": [],
   "source": [
    "ActiveMotorRatio = []; Vplus = []; Vminus = []\n",
    "\n",
    "for I in range(len(Gamma)):\n",
    "    if ActiveMotorRatioTemp[I] > ActiveMotorRatioCritical:\n",
    "        ActiveMotorRatio.append( ActiveMotorRatioTemp[I] )\n",
    "        Vplus.append( 0.5*Vmax/Tau*(Tau - 1.0 + np.sqrt((1.0 - Tau)**2 + 4.0*Tau - 2.0*f*Tau*Gamma[I])) );\n",
    "        Vminus.append( 0.5*Vmax/Tau*(Tau - 1.0 - np.sqrt((1.0 - Tau)**2 + 4.0*Tau - 2.0*f*Tau*Gamma[I])) );"
   ]
  },
  {
   "cell_type": "code",
   "execution_count": 59,
   "metadata": {},
   "outputs": [
    {
     "data": {
      "image/png": "[encoded data removed]",
      "text/plain": [
       "<Figure size 283.465x283.465 with 1 Axes>"
      ]
     },
     "metadata": {
      "needs_background": "light"
     },
     "output_type": "display_data"
    }
   ],
   "source": [
    "fig, ax = plt.subplots(1,1, figsize=(10*cm,10*cm))\n",
    "\n",
    "ax.plot(ActiveMotorRatio,Vplus,'r-') #,ActiveMotorRatio,Vminus,'b.',ActiveMotorRatioCritical,0.0,'ro')\n",
    "ax.set_xticks(np.arange(0,1.1,0.2))\n",
    "ax.set_yticks(np.arange(0,9,2))\n",
    "ax.set_xlabel('$R$', fontsize=14)\n",
    "ax.set_ylabel('$v(\\mu m/s)$', fontsize=14)\n",
    "ax.tick_params(which='both', direction='in', top=True, right=True)\n",
    "ax.minorticks_on()\n",
    "\n",
    "#plt.savefig('fig/gldn_spd.pdf', format='pdf', bbox_inches='tight')\n",
    "#plt.savefig('fig/gldn_spd.png', format='png', dpi=700, bbox_inches='tight')\n",
    "plt.show()"
   ]
  },
  {
   "cell_type": "code",
   "execution_count": 77,
   "metadata": {},
   "outputs": [],
   "source": []
  },
  {
   "cell_type": "code",
   "execution_count": 75,
   "metadata": {},
   "outputs": [
    {
     "name": "stdout",
     "output_type": "stream",
     "text": [
      "2\n",
      "2\n",
      "2\n",
      "3\n",
      "3\n",
      "3\n"
     ]
    }
   ],
   "source": [
    "for f in [2,3]:\n",
    "    for i in [1,2,3]:\n",
    "        print(f)"
   ]
  },
  {
   "cell_type": "code",
   "execution_count": 95,
   "metadata": {},
   "outputs": [],
   "source": [
    "a = [[]]*3"
   ]
  },
  {
   "cell_type": "code",
   "execution_count": 99,
   "metadata": {},
   "outputs": [
    {
     "data": {
      "text/plain": [
       "[]"
      ]
     },
     "execution_count": 99,
     "metadata": {},
     "output_type": "execute_result"
    }
   ],
   "source": [
    "a[2]"
   ]
  },
  {
   "cell_type": "code",
   "execution_count": 107,
   "metadata": {},
   "outputs": [],
   "source": [
    "frupt = np.array([2.0,4.0,8.0,9.2]);f = frupt/fstall\n",
    "Tau2min = frupt/k/Vmax; Tau = Tau1/Tau2min\n",
    "GammaCritical = ((1.0 + Tau)**2)/2.0/f/Tau\n",
    "ActiveMotorRatioCritical = 1.0/(GammaCritical + 1.0)"
   ]
  },
  {
   "cell_type": "code",
   "execution_count": 108,
   "metadata": {},
   "outputs": [
    {
     "data": {
      "text/plain": [
       "array([0.26117779, 0.5681626 , 0.82110434, 0.85372119])"
      ]
     },
     "execution_count": 108,
     "metadata": {},
     "output_type": "execute_result"
    }
   ],
   "source": [
    "ActiveMotorRatioCritical"
   ]
  },
  {
   "cell_type": "code",
   "execution_count": 109,
   "metadata": {},
   "outputs": [
    {
     "data": {
      "text/plain": [
       "array([ 5., 10., 20., 23.])"
      ]
     },
     "execution_count": 109,
     "metadata": {},
     "output_type": "execute_result"
    }
   ],
   "source": [
    "f"
   ]
  },
  {
   "cell_type": "code",
   "execution_count": 115,
   "metadata": {},
   "outputs": [],
   "source": [
    "frupt = np.array([2.0,4.0,8.0,9.2]);f = frupt/fstall\n",
    "Tau2min = frupt/k/Vmax; Tau = Tau1/Tau2min\n",
    "GammaCritical = ((1.0 + Tau)**2)/2.0/f/Tau\n",
    "ActiveMotorRatioCritical = 1.0/(GammaCritical + 1.0)\n",
    "\n",
    "ActiveMotorRatio = [[]]*len(f); Vplus = [[]]*len(f); Vminus = [[]]*len(f)\n",
    "\n",
    "c = 0\n",
    "for i in range(len(f)):\n",
    "    for I in range(len(Gamma)):\n",
    "        if ActiveMotorRatioTemp[I] > ActiveMotorRatioCritical[i]:\n",
    "            ActiveMotorRatio[c].append( ActiveMotorRatioTemp[I] )\n",
    "            Vplus[c].append( 0.5*Vmax/Tau[i]*(Tau[i] - 1.0 + np.sqrt((1.0 - Tau[i])**2 + 4.0*Tau[i] - 2.0*f[i]*Tau[i]*Gamma[I])) );\n",
    "            Vminus[c].append( 0.5*Vmax/Tau[i]*(Tau[i] - 1.0 - np.sqrt((1.0 - Tau[i])**2 + 4.0*Tau[i] - 2.0*f[i]*Tau[i]*Gamma[I])) );\n",
    "    c+=1"
   ]
  },
  {
   "cell_type": "code",
   "execution_count": 122,
   "metadata": {},
   "outputs": [
    {
     "data": {
      "text/plain": [
       "147"
      ]
     },
     "execution_count": 122,
     "metadata": {},
     "output_type": "execute_result"
    }
   ],
   "source": [
    "len(ActiveMotorRatio[2])"
   ]
  },
  {
   "cell_type": "code",
   "execution_count": 123,
   "metadata": {},
   "outputs": [
    {
     "data": {
      "image/png": "[encoded data removed]",
      "text/plain": [
       "<Figure size 283.465x283.465 with 1 Axes>"
      ]
     },
     "metadata": {
      "needs_background": "light"
     },
     "output_type": "display_data"
    }
   ],
   "source": [
    "fig, ax = plt.subplots(1,1, figsize=(10*cm,10*cm))\n",
    "\n",
    "#for i in range(len(ActiveMotorRatio)):\n",
    "ax.plot(ActiveMotorRatio[0],Vplus[0], label='$f_{rupt}$ = %.2f'%frupt[0])\n",
    "ax.set_xticks(np.arange(0,1.1,0.2))\n",
    "ax.set_yticks(np.arange(0,9,2))\n",
    "ax.set_xlabel('$R$', fontsize=14)\n",
    "ax.set_ylabel('$v(\\mu m/s)$', fontsize=14)\n",
    "ax.tick_params(which='both', direction='in', top=True, right=True)\n",
    "ax.minorticks_on()\n",
    "ax.legend()\n",
    "\n",
    "#plt.savefig('fig/gldn_spds.pdf', format='pdf', bbox_inches='tight')\n",
    "#plt.savefig('fig/gldn_spds.png', format='png', dpi=700, bbox_inches='tight')\n",
    "plt.show()"
   ]
  },
  {
   "cell_type": "code",
   "execution_count": 44,
   "metadata": {},
   "outputs": [
    {
     "data": {
      "text/plain": [
       "[0.86,\n",
       " 0.87,\n",
       " 0.88,\n",
       " 0.89,\n",
       " 0.9,\n",
       " 0.91,\n",
       " 0.92,\n",
       " 0.93,\n",
       " 0.9400000000000001,\n",
       " 0.9500000000000001,\n",
       " 0.9600000000000001,\n",
       " 0.97,\n",
       " 0.98,\n",
       " 0.99]"
      ]
     },
     "execution_count": 44,
     "metadata": {},
     "output_type": "execute_result"
    }
   ],
   "source": [
    "ActiveMotorRatio"
   ]
  },
  {
   "cell_type": "code",
   "execution_count": 45,
   "metadata": {},
   "outputs": [
    {
     "data": {
      "text/plain": [
       "[3.8056184344005257,\n",
       " 4.357809783078366,\n",
       " 4.745175898727825,\n",
       " 5.058041096919209,\n",
       " 5.325448997925292,\n",
       " 5.561242757369131,\n",
       " 5.773333333333335,\n",
       " 5.966758598451128,\n",
       " 6.144968737946562,\n",
       " 6.310453769956673,\n",
       " 6.465083448801845,\n",
       " 6.610306081614683,\n",
       " 6.747271932149401,\n",
       " 6.876913530417082]"
      ]
     },
     "execution_count": 45,
     "metadata": {},
     "output_type": "execute_result"
    }
   ],
   "source": [
    "Vplus"
   ]
  },
  {
   "cell_type": "code",
   "execution_count": 30,
   "metadata": {},
   "outputs": [
    {
     "data": {
      "text/plain": [
       "[<matplotlib.lines.Line2D at 0x7f8a943edda0>,\n",
       " <matplotlib.lines.Line2D at 0x7f8a943edf60>]"
      ]
     },
     "execution_count": 30,
     "metadata": {},
     "output_type": "execute_result"
    },
    {
     "data": {
      "image/png": "[encoded data removed]",
      "text/plain": [
       "<Figure size 432x288 with 1 Axes>"
      ]
     },
     "metadata": {
      "needs_background": "light"
     },
     "output_type": "display_data"
    }
   ],
   "source": [
    "plt.plot(ActiveMotorRatio,Vplus,'r-',ActiveMotorRatioCritical,0.0,'ro')"
   ]
  },
  {
   "cell_type": "code",
   "execution_count": null,
   "metadata": {},
   "outputs": [],
   "source": [
    "plot(ActiveMotorRatio,Vplus,'r-',ActiveMotorRatio,Vminus,'b.',ActiveMotorRatioCritical,0.0,'ro')\n",
    "xlabel('Active motor ratio');ylabel('v (um/s)');\n",
    "axis([0.0 1.0 0.0 8.0])\n",
    "saveas(gcf,'r-vAll.fig');\n",
    "saveas(gcf,'r-vAll.png');\n",
    "\n",
    "figure\n",
    "plot(ActiveMotorRatio,Vplus,'r-',ActiveMotorRatioCritical,0.0,'ro')\n",
    "xlabel('Active motor ratio');ylabel('v (um/s)');\n",
    "axis([0.0 1.0 0.0 8.0])\n",
    "saveas(gcf,'r-v.fig');\n",
    "saveas(gcf,'r-v.png');\n",
    "\n",
    "OutputData = [ActiveMotorRatio;Vplus];\n",
    "OutputData = OutputData.';\n",
    "save('r-v.txt','OutputData','-ascii') "
   ]
  }
 ],
 "metadata": {
  "kernelspec": {
   "display_name": "Python 3",
   "language": "python",
   "name": "python3"
  },
  "language_info": {
   "codemirror_mode": {
    "name": "ipython",
    "version": 3
   },
   "file_extension": ".py",
   "mimetype": "text/x-python",
   "name": "python",
   "nbconvert_exporter": "python",
   "pygments_lexer": "ipython3",
   "version": "3.5.2"
  }
 },
 "nbformat": 4,
 "nbformat_minor": 2
}
