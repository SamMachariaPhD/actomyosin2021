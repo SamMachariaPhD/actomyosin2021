{
 "cells": [
  {
   "cell_type": "markdown",
   "metadata": {},
   "source": [
    "| Name | Vmax | Km |\n",
    "| --- | --- | --- |\n",
    "| Debold 2011 | pH7.4: 7.1 +/- 0.2 $\\mu m/s$ | 372 +/- 40 $\\mu M$ |\n",
    "| Debold 2011 | pH7.4: 8.2 +/- 0.3 $\\mu m/s$ | 773 +/- 86 $\\mu M$ |\n",
    "| Debold 2011 | pH6.8: 3.2 +/- 0.1 $\\mu m/s$ | 119 +/- 24 $\\mu M$ |\n",
    "| Debold 2011 | pH6.8: 5.6 +/- 0.2 $\\mu m/s$ | 687 +/- 55 $\\mu M$ |\n",
    "| Debold 2011 | pH6.5: 2.2 +/- 0.1 $\\mu m/s$ | 821 +/- 192 $\\mu M$ |\n",
    "| Debold 2011 | pH6.5: 3.9 +/- 0.1 $\\mu m/s$ | 202 +/- 28 $\\mu M$ |\n",
    "| Persson 2013 | 9.93 +/- 0.27 $\\mu m/s$ | 268 +/- 0.026 $\\mu M$ |\n",
    "| Ishigure 2015 | 8.2 +/- 0.2 $\\mu m/s$ | 414 +/- 26 $\\mu M$ |\n",
    "| V10_Michaelis | 7.7 $\\mu m/s$ | 358.1 $\\mu M$ |\n",
    "| V10_DoubleRec. | 8.9 $\\mu m/s$ | 518.0 $\\mu M$ |\n",
    "| V11a_Michaelis | 7.6 $\\mu m/s$ | 378.2 $\\mu M$ |\n",
    "| V11a_DoubleRec. | 8.8 $\\mu m/s$ | 493.2 $\\mu M$ |\n",
    "| V11h_Michaelis | 7.6 $\\mu m/s$ | 297.2 $\\mu M$ |\n",
    "| V11h_DoubleRec. | 9.0 $\\mu m/s$ | 481.3 $\\mu M$ |"
   ]
  },
  {
   "cell_type": "code",
   "execution_count": null,
   "metadata": {},
   "outputs": [],
   "source": []
  }
 ],
 "metadata": {
  "kernelspec": {
   "display_name": "Python 3",
   "language": "python",
   "name": "python3"
  },
  "language_info": {
   "codemirror_mode": {
    "name": "ipython",
    "version": 3
   },
   "file_extension": ".py",
   "mimetype": "text/x-python",
   "name": "python",
   "nbconvert_exporter": "python",
   "pygments_lexer": "ipython3",
   "version": "3.6.7"
  }
 },
 "nbformat": 4,
 "nbformat_minor": 2
}
